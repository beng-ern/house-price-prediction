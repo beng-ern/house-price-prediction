{
  "nbformat": 4,
  "nbformat_minor": 0,
  "metadata": {
    "accelerator": "GPU",
    "colab": {
      "provenance": []
    },
    "kernelspec": {
      "display_name": "Python 3",
      "language": "python",
      "name": "python3"
    },
    "language_info": {
      "codemirror_mode": {
        "name": "ipython",
        "version": 3
      },
      "file_extension": ".py",
      "mimetype": "text/x-python",
      "name": "python",
      "nbconvert_exporter": "python",
      "pygments_lexer": "ipython3",
      "version": "3.8.5"
    }
  },
  "cells": [
    {
      "cell_type": "markdown",
      "metadata": {
        "id": "hwDnkd-5z4E7"
      },
      "source": [
        "# Import Libraries"
      ]
    },
    {
      "cell_type": "code",
      "metadata": {
        "id": "VmQELtNgz4E8"
      },
      "source": [
        "%matplotlib inline\n",
        "import numpy as np\n",
        "import pandas as pd \n",
        "import matplotlib.pyplot as plt\n",
        "import scipy.stats as stats\n",
        "import sklearn.linear_model as linear_model\n",
        "import seaborn as sns\n",
        "import xgboost as xgb\n",
        "from sklearn.model_selection import KFold\n",
        "from IPython.display import HTML, display\n",
        "from sklearn.manifold import TSNE\n",
        "from sklearn.cluster import KMeans\n",
        "from sklearn.decomposition import PCA\n",
        "from sklearn.preprocessing import StandardScaler\n",
        "from sklearn.svm import SVR\n",
        "from sklearn.model_selection import GridSearchCV, RandomizedSearchCV\n",
        "from scipy.special import boxcox1p\n",
        "from scipy.stats import norm, skew\n",
        "\n",
        "from sklearn.svm import SVR\n",
        "from mlxtend.regressor import StackingCVRegressor\n",
        "import lightgbm as lgb\n",
        "from lightgbm import LGBMRegressor\n",
        "from xgboost import XGBRegressor\n",
        "from sklearn.ensemble import RandomForestRegressor, GradientBoostingRegressor\n",
        "from sklearn.model_selection import KFold, cross_val_score\n",
        "from sklearn.metrics import mean_squared_error\n",
        "from sklearn.pipeline import make_pipeline\n",
        "\n",
        "from sklearn.linear_model import ElasticNet, LassoCV, Lasso\n",
        "from sklearn.model_selection import cross_val_score"
      ],
      "execution_count": null,
      "outputs": []
    },
    {
      "cell_type": "code",
      "metadata": {
        "id": "YkbDL61GkNkm"
      },
      "source": [
        "from sklearn.preprocessing import LabelEncoder\n",
        "from sklearn.preprocessing import OrdinalEncoder\n",
        "from sklearn.preprocessing import RobustScaler"
      ],
      "execution_count": null,
      "outputs": []
    },
    {
      "cell_type": "code",
      "metadata": {
        "id": "ixF5IujwhPD4"
      },
      "source": [
        "# import statsmodels.api as sma\n",
        "# from statsmodels.stats.outliers_influence import variance_inflation_factor"
      ],
      "execution_count": null,
      "outputs": []
    },
    {
      "cell_type": "code",
      "metadata": {
        "colab": {
          "base_uri": "https://localhost:8080/"
        },
        "id": "skIQyJ6mz8jy",
        "outputId": "d628b0ef-d7d9-42ca-b740-fabbee4a7282"
      },
      "source": [
        "from google.colab import drive\n",
        "drive.mount('/content/drive')"
      ],
      "execution_count": null,
      "outputs": [
        {
          "output_type": "stream",
          "text": [
            "Mounted at /content/drive\n"
          ],
          "name": "stdout"
        }
      ]
    },
    {
      "cell_type": "code",
      "metadata": {
        "id": "iqdlmZ1yz8b2"
      },
      "source": [
        "import os\n",
        "os.chdir('/content/drive/My Drive/')"
      ],
      "execution_count": null,
      "outputs": []
    },
    {
      "cell_type": "markdown",
      "metadata": {
        "id": "HBmeRBFsz4E9"
      },
      "source": [
        "# Import Dataset"
      ]
    },
    {
      "cell_type": "code",
      "metadata": {
        "id": "G6fT92dUz4E-"
      },
      "source": [
        "train_df = pd.read_csv('train.csv')\n",
        "test_df = pd.read_csv('test.csv')"
      ],
      "execution_count": null,
      "outputs": []
    },
    {
      "cell_type": "code",
      "metadata": {
        "colab": {
          "base_uri": "https://localhost:8080/"
        },
        "id": "_qXOd2khb2Bs",
        "outputId": "20f3ef52-0507-4289-8848-167009b89245"
      },
      "source": [
        "# check to see if the column order is the same for concatination\n",
        "list(train_df.iloc[:, 0:80].columns) == list(test_df.columns)"
      ],
      "execution_count": null,
      "outputs": [
        {
          "output_type": "execute_result",
          "data": {
            "text/plain": [
              "True"
            ]
          },
          "metadata": {
            "tags": []
          },
          "execution_count": 8
        }
      ]
    },
    {
      "cell_type": "code",
      "metadata": {
        "id": "1ntIotSWcaFq"
      },
      "source": [
        "# concatinate both train and test for imputation later\n",
        "# drop ID from the beginning\n",
        "full_df = pd.concat([train_df, test_df], ignore_index=True)\n",
        "full_df.drop(columns=['Id'], inplace=True)"
      ],
      "execution_count": null,
      "outputs": []
    },
    {
      "cell_type": "markdown",
      "metadata": {
        "id": "FTR1c9xIz4E-"
      },
      "source": [
        "# Data Understanding and Visualization"
      ]
    },
    {
      "cell_type": "code",
      "metadata": {
        "id": "rHqdBbgRz4E-"
      },
      "source": [
        "train_df.shape"
      ],
      "execution_count": null,
      "outputs": []
    },
    {
      "cell_type": "code",
      "metadata": {
        "id": "g0BCt30_z4E_"
      },
      "source": [
        "test_df.shape"
      ],
      "execution_count": null,
      "outputs": []
    },
    {
      "cell_type": "code",
      "metadata": {
        "id": "NlXgKOchz4FA"
      },
      "source": [
        "train_df.head()"
      ],
      "execution_count": null,
      "outputs": []
    },
    {
      "cell_type": "code",
      "metadata": {
        "id": "my9ERF8Qz4FA"
      },
      "source": [
        "train_df.tail()"
      ],
      "execution_count": null,
      "outputs": []
    },
    {
      "cell_type": "code",
      "metadata": {
        "id": "dEpSF3PCz4FB"
      },
      "source": [
        "full_df.describe().T"
      ],
      "execution_count": null,
      "outputs": []
    },
    {
      "cell_type": "code",
      "metadata": {
        "id": "DkI7fA59z4FB"
      },
      "source": [
        "full_df.describe(include='object').T"
      ],
      "execution_count": null,
      "outputs": []
    },
    {
      "cell_type": "code",
      "metadata": {
        "id": "4IJcl0Fuz4FB"
      },
      "source": [
        "# heat map with numerical variables\n",
        "# checking correlation\n",
        "corrmat = full_df.corr()\n",
        "f, ax = plt.subplots(figsize=(16, 12))\n",
        "sns.heatmap(corrmat, vmax=.8, square=True, cmap='YlGnBu', annot=True,linewidths=.3, fmt='.1f', annot_kws={'size': 8})"
      ],
      "execution_count": null,
      "outputs": []
    },
    {
      "cell_type": "code",
      "metadata": {
        "id": "qiwzlOc1hM6g"
      },
      "source": [
        "# checking VIF\n",
        "# def vif_arr(df):\n",
        "#   vif = pd.DataFrame()\n",
        "#   df = sma.add_constant(df)\n",
        "#   vif['variables'] = df.columns\n",
        "#   vif[\"VIF\"] = [variance_inflation_factor(df.values, i) for i in range(df.shape[1])]\n",
        "\n",
        "#   return vif"
      ],
      "execution_count": null,
      "outputs": []
    },
    {
      "cell_type": "code",
      "metadata": {
        "id": "yDt4PEn6h6uR"
      },
      "source": [
        "# vif_arr(full_df.loc[:, full_df.columns!='SalePrice'].select_dtypes(exclude='object'))"
      ],
      "execution_count": null,
      "outputs": []
    },
    {
      "cell_type": "code",
      "metadata": {
        "id": "Irz7tWdLLkLi"
      },
      "source": [
        "# check out target variable\n",
        "sns.histplot(x='SalePrice', data=full_df)"
      ],
      "execution_count": null,
      "outputs": []
    },
    {
      "cell_type": "code",
      "metadata": {
        "id": "G09t0j-W8hRc"
      },
      "source": [
        "plt.subplots(figsize=(16, 9))\n",
        "g = sns.boxplot(x='TotRmsAbvGrd', y='SalePrice', data=full_df)\n",
        "g.set_xticklabels(g.get_xticklabels(), rotation=90)\n",
        "None # do not show the get_xticklabels objects"
      ],
      "execution_count": null,
      "outputs": []
    },
    {
      "cell_type": "code",
      "metadata": {
        "id": "BDk9VgfwByZR",
        "colab": {
          "base_uri": "https://localhost:8080/",
          "height": 297
        },
        "outputId": "8994025f-1f2d-475a-b7c5-6e274d007571"
      },
      "source": [
        "sns.scatterplot(x='OverallQual',y='SalePrice', data=train_df)"
      ],
      "execution_count": null,
      "outputs": [
        {
          "output_type": "execute_result",
          "data": {
            "text/plain": [
              "<matplotlib.axes._subplots.AxesSubplot at 0x7f23ee890610>"
            ]
          },
          "metadata": {
            "tags": []
          },
          "execution_count": 113
        },
        {
          "output_type": "display_data",
          "data": {
            "image/png": "[encoded data removed]",
            "text/plain": [
              "<Figure size 432x288 with 1 Axes>"
            ]
          },
          "metadata": {
            "tags": [],
            "needs_background": "light"
          }
        }
      ]
    },
    {
      "cell_type": "code",
      "metadata": {
        "id": "yUfEl9jB9A5i",
        "colab": {
          "base_uri": "https://localhost:8080/",
          "height": 460
        },
        "outputId": "2f61ac4c-d61c-4251-bfdc-69e081465043"
      },
      "source": [
        "plt.subplots(figsize=(10, 7))\n",
        "sns.scatterplot(x='GrLivArea',y='SalePrice', data=train_df)"
      ],
      "execution_count": null,
      "outputs": [
        {
          "output_type": "execute_result",
          "data": {
            "text/plain": [
              "<matplotlib.axes._subplots.AxesSubplot at 0x7f23ee2788d0>"
            ]
          },
          "metadata": {
            "tags": []
          },
          "execution_count": 115
        },
        {
          "output_type": "display_data",
          "data": {
            "image/png": "[encoded data removed]",
            "text/plain": [
              "<Figure size 720x504 with 1 Axes>"
            ]
          },
          "metadata": {
            "tags": [],
            "needs_background": "light"
          }
        }
      ]
    },
    {
      "cell_type": "code",
      "metadata": {
        "id": "tXr9Lapx-CX4"
      },
      "source": [
        "full_df.drop(columns='SalePrice').isnull().mean().sort_values(ascending=False)"
      ],
      "execution_count": null,
      "outputs": []
    },
    {
      "cell_type": "code",
      "metadata": {
        "id": "aTh-Jkt1Z9vY"
      },
      "source": [
        "# ext_cols = [string for string in list(full_df.columns) if 'Exter' in string]"
      ],
      "execution_count": null,
      "outputs": []
    },
    {
      "cell_type": "markdown",
      "metadata": {
        "id": "gXqGCUrYz4FE"
      },
      "source": [
        "# Data Preprocessing / Feature Engineering"
      ]
    },
    {
      "cell_type": "markdown",
      "metadata": {
        "id": "g7hA_DRdNUTU"
      },
      "source": [
        "#### Remove Outliers"
      ]
    },
    {
      "cell_type": "code",
      "metadata": {
        "id": "gCmspJCZNUrP"
      },
      "source": [
        "full_df = full_df[~((full_df['GrLivArea']>4500) & (full_df['SalePrice']<300000))]"
      ],
      "execution_count": null,
      "outputs": []
    },
    {
      "cell_type": "markdown",
      "metadata": {
        "id": "CCVmkO8Tz4FF"
      },
      "source": [
        "#### Imputation (fill in the mssing values)"
      ]
    },
    {
      "cell_type": "code",
      "metadata": {
        "id": "-1bdUnZKYrcF"
      },
      "source": [
        "# the special cases\n",
        "full_df.loc[(full_df['MasVnrType'].isnull()) & (full_df['MasVnrArea'].notnull()), 'MasVnrType'] = 'BrkCmn'\n",
        "full_df.loc[(full_df['BsmtExposure'].isnull()) & (full_df['BsmtQual'].notnull()), 'BsmtExposure'] = 'No'\n",
        "full_df['KitchenQual'] = full_df['KitchenQual'].fillna('TA')"
      ],
      "execution_count": null,
      "outputs": []
    },
    {
      "cell_type": "code",
      "metadata": {
        "id": "e4rrRoroeOj8"
      },
      "source": [
        "# fill with 0\n",
        "full_df['MasVnrArea'] = full_df['MasVnrArea'].fillna(0)\n",
        "full_df['BsmtFinSF1'] = full_df['BsmtFinSF1'].fillna(0)\n",
        "full_df['BsmtFinSF2'] = full_df['BsmtFinSF2'].fillna(0)\n",
        "full_df['BsmtUnfSF'] = full_df['BsmtUnfSF'].fillna(0)\n",
        "full_df['TotalBsmtSF'] = full_df['TotalBsmtSF'].fillna(0)\n",
        "full_df['BsmtFullBath'] = full_df['BsmtFullBath'].fillna(0)\n",
        "full_df['BsmtHalfBath'] = full_df['BsmtHalfBath'].fillna(0)\n",
        "full_df['GarageCars'] = full_df['GarageCars'].fillna(0)\n",
        "full_df['GarageArea'] = full_df['GarageArea'].fillna(0)\n",
        "full_df['GarageYrBlt'] = full_df['GarageYrBlt'].fillna(0)"
      ],
      "execution_count": null,
      "outputs": []
    },
    {
      "cell_type": "code",
      "metadata": {
        "id": "vGUuzKhYd-Nu"
      },
      "source": [
        "# fill with median\n",
        "full_df['LotFrontage'] = full_df['LotFrontage'].fillna(full_df['LotFrontage'].median())"
      ],
      "execution_count": null,
      "outputs": []
    },
    {
      "cell_type": "code",
      "metadata": {
        "id": "_wT4807Oz4FF"
      },
      "source": [
        "# fill with None\n",
        "full_df['MasVnrType'] = full_df['MasVnrType'].fillna('None')\n",
        "full_df['BsmtQual'] = full_df['BsmtQual'].fillna('None')\n",
        "full_df['BsmtCond'] = full_df['BsmtCond'].fillna('None')\n",
        "full_df['BsmtFinType1'] = full_df['BsmtFinType1'].fillna('None')\n",
        "full_df['BsmtFinType2'] = full_df['BsmtFinType2'].fillna('None')\n",
        "full_df['FireplaceQu'] = full_df['FireplaceQu'].fillna('None')\n",
        "full_df['GarageType'] = full_df['GarageType'].fillna('None')\n",
        "full_df['GarageFinish'] = full_df['GarageFinish'].fillna('None')\n",
        "full_df['GarageQual'] = full_df['GarageQual'].fillna('None')\n",
        "full_df['GarageCond'] = full_df['GarageCond'].fillna('None')\n",
        "full_df['BsmtExposure'] = full_df['BsmtExposure'].fillna('None')\n",
        "full_df[\"PoolQC\"] = full_df[\"PoolQC\"].fillna(\"None\")\n",
        "full_df[\"MiscFeature\"] = full_df[\"MiscFeature\"].fillna(\"None\")\n",
        "full_df[\"Alley\"] = full_df[\"Alley\"].fillna(\"None\")\n",
        "full_df[\"Fence\"] = full_df[\"Fence\"].fillna(\"None\")"
      ],
      "execution_count": null,
      "outputs": []
    },
    {
      "cell_type": "code",
      "metadata": {
        "id": "QKLWo-aUz4FF"
      },
      "source": [
        "# fill with mode\n",
        "full_df['MSZoning'] = full_df['MSZoning'].fillna(full_df['MSZoning'].mode()[0])\n",
        "full_df['Utilities'] = full_df['Utilities'].fillna(full_df['Utilities'].mode()[0])\n",
        "full_df['Exterior1st'] = full_df['Exterior1st'].fillna(full_df['Exterior1st'].mode()[0])\n",
        "full_df['Exterior2nd'] = full_df['Exterior2nd'].fillna(full_df['Exterior2nd'].mode()[0])\n",
        "full_df['SaleType'] = full_df['SaleType'].fillna(full_df['SaleType'].mode()[0])\n",
        "full_df['Functional'] = full_df['Functional'].fillna(full_df['Functional'].mode()[0])\n",
        "full_df['Electrical'] = full_df['Electrical'].fillna(full_df['Functional'].mode()[0])"
      ],
      "execution_count": null,
      "outputs": []
    },
    {
      "cell_type": "markdown",
      "metadata": {
        "id": "nzm5SC7mjWCl"
      },
      "source": [
        "### Convert to ordinal variable (in interger form)"
      ]
    },
    {
      "cell_type": "code",
      "metadata": {
        "id": "Ir9D-efdjUqF"
      },
      "source": [
        "# ExterQual, ExterCond, HeatingQC\n",
        "ext_ord = OrdinalEncoder(categories=[['None', 'Po', 'Fa', 'TA', 'Gd', 'Ex']])\n",
        "ext_ord.fit([['None'], ['Po'], ['Fa'], ['TA'], ['Gd'], ['Ex']])\n",
        "full_df['ExterQual'] = ext_ord.transform(full_df[['ExterQual']])\n",
        "full_df['ExterCond'] = ext_ord.transform(full_df[['ExterCond']])\n",
        "full_df['HeatingQC'] = ext_ord.transform(full_df[['HeatingQC']])\n",
        "full_df['PoolQC'] = ext_ord.transform(full_df[['PoolQC']])"
      ],
      "execution_count": null,
      "outputs": []
    },
    {
      "cell_type": "code",
      "metadata": {
        "id": "wmUc_Dp6tXVr"
      },
      "source": [
        "# BsmtQual, BsmtCond, FireplaceQu, GarageQual, GarageCond\n",
        "bsmt_ord = OrdinalEncoder(categories=[['None', 'Po', 'Fa', 'TA', 'Gd', 'Ex']])\n",
        "bsmt_ord.fit([['None'], ['Po'], ['Fa'], ['TA'], ['Gd'], ['Ex']])\n",
        "full_df['BsmtQual'] = bsmt_ord.transform(full_df[['BsmtQual']])\n",
        "full_df['BsmtCond'] = bsmt_ord.transform(full_df[['BsmtCond']])\n",
        "full_df['FireplaceQu'] = bsmt_ord.transform(full_df[['FireplaceQu']])\n",
        "full_df['GarageQual'] = bsmt_ord.transform(full_df[['GarageQual']])\n",
        "full_df['GarageCond'] = bsmt_ord.transform(full_df[['GarageCond']])"
      ],
      "execution_count": null,
      "outputs": []
    },
    {
      "cell_type": "markdown",
      "metadata": {
        "id": "R7eplpxjz4FE"
      },
      "source": [
        "### Convert numeric data into categorical data"
      ]
    },
    {
      "cell_type": "code",
      "metadata": {
        "id": "SISg35Lfz4FE"
      },
      "source": [
        "# year built\n",
        "# full_df['YearBuilt'] = full_df['YearBuilt'].map(lambda x: 'Newest' if x>=1980 else ('New' if x>=1950 else ('Old' if x>=1920 else 'Oldest')))\n",
        "\n",
        "# # year remodeling\n",
        "# full_df['YearRemodAdd'] = full_df['YearRemodAdd'].map(lambda x: 'Newest' if x>=1990 else ('New' if x>=1970 else 'Old'))\n",
        "\n",
        "full_df['MSSubClass'] = full_df['MSSubClass'].astype(str)\n",
        "# convert these two into categorical variables coz they dont seem to contribute to SalePrice\n",
        "full_df['YrSold'] = full_df['YrSold'].astype(str)\n",
        "full_df['MoSold'] = full_df['MoSold'].astype(str)"
      ],
      "execution_count": null,
      "outputs": []
    },
    {
      "cell_type": "markdown",
      "metadata": {
        "id": "stwLfzHHidbs"
      },
      "source": [
        "### Create New Variable"
      ]
    },
    {
      "cell_type": "code",
      "metadata": {
        "id": "PMzo1Jguz4FE"
      },
      "source": [
        "# total squarefeet\n",
        "# full_df['TotalSF'] = full_df['TotalBsmtSF'] + full_df['1stFlrSF'] + full_df['2ndFlrSF'] + full_df['LotArea'] + full_df['MasVnrArea'] + full_df['GrLivArea'] + full_df['GarageArea']\n",
        "full_df['TotalSF'] = full_df['TotalBsmtSF'] + full_df['1stFlrSF'] + full_df['2ndFlrSF']\n",
        "full_df['TotalOutdoorSF'] = full_df['WoodDeckSF'] + full_df['OpenPorchSF'] + full_df['EnclosedPorch'] + full_df['ScreenPorch'] + full_df['3SsnPorch']"
      ],
      "execution_count": null,
      "outputs": []
    },
    {
      "cell_type": "markdown",
      "metadata": {
        "id": "ggdRZUI7z4FG"
      },
      "source": [
        "#### Box-cox transformation"
      ]
    },
    {
      "cell_type": "code",
      "metadata": {
        "colab": {
          "base_uri": "https://localhost:8080/",
          "height": 514
        },
        "id": "_zTs25aez4FG",
        "outputId": "d509b549-1ee4-4d73-8451-829ec0ba3fc5"
      },
      "source": [
        "num_var = full_df.select_dtypes(exclude=\"object\").columns\n",
        "\n",
        "skewed_var = full_df[num_var].apply(lambda x: skew(x.dropna())).sort_values(ascending=False)\n",
        "\n",
        "skewness = pd.DataFrame()\n",
        "skewness['Skew_value'] = skewed_var\n",
        "skewness.head(15)"
      ],
      "execution_count": null,
      "outputs": [
        {
          "output_type": "execute_result",
          "data": {
            "text/html": [
              "<div>\n",
              "<style scoped>\n",
              "    .dataframe tbody tr th:only-of-type {\n",
              "        vertical-align: middle;\n",
              "    }\n",
              "\n",
              "    .dataframe tbody tr th {\n",
              "        vertical-align: top;\n",
              "    }\n",
              "\n",
              "    .dataframe thead th {\n",
              "        text-align: right;\n",
              "    }\n",
              "</style>\n",
              "<table border=\"1\" class=\"dataframe\">\n",
              "  <thead>\n",
              "    <tr style=\"text-align: right;\">\n",
              "      <th></th>\n",
              "      <th>Skew_value</th>\n",
              "    </tr>\n",
              "  </thead>\n",
              "  <tbody>\n",
              "    <tr>\n",
              "      <th>MiscVal</th>\n",
              "      <td>21.939672</td>\n",
              "    </tr>\n",
              "    <tr>\n",
              "      <th>PoolQC</th>\n",
              "      <td>19.548879</td>\n",
              "    </tr>\n",
              "    <tr>\n",
              "      <th>PoolArea</th>\n",
              "      <td>17.688664</td>\n",
              "    </tr>\n",
              "    <tr>\n",
              "      <th>LotArea</th>\n",
              "      <td>13.109495</td>\n",
              "    </tr>\n",
              "    <tr>\n",
              "      <th>LowQualFinSF</th>\n",
              "      <td>12.084539</td>\n",
              "    </tr>\n",
              "    <tr>\n",
              "      <th>3SsnPorch</th>\n",
              "      <td>11.372080</td>\n",
              "    </tr>\n",
              "    <tr>\n",
              "      <th>KitchenAbvGr</th>\n",
              "      <td>4.300550</td>\n",
              "    </tr>\n",
              "    <tr>\n",
              "      <th>BsmtFinSF2</th>\n",
              "      <td>4.144503</td>\n",
              "    </tr>\n",
              "    <tr>\n",
              "      <th>EnclosedPorch</th>\n",
              "      <td>4.002344</td>\n",
              "    </tr>\n",
              "    <tr>\n",
              "      <th>ScreenPorch</th>\n",
              "      <td>3.945101</td>\n",
              "    </tr>\n",
              "    <tr>\n",
              "      <th>BsmtHalfBath</th>\n",
              "      <td>3.929996</td>\n",
              "    </tr>\n",
              "    <tr>\n",
              "      <th>MasVnrArea</th>\n",
              "      <td>2.621719</td>\n",
              "    </tr>\n",
              "    <tr>\n",
              "      <th>OpenPorchSF</th>\n",
              "      <td>2.529358</td>\n",
              "    </tr>\n",
              "    <tr>\n",
              "      <th>SalePrice</th>\n",
              "      <td>1.879360</td>\n",
              "    </tr>\n",
              "    <tr>\n",
              "      <th>WoodDeckSF</th>\n",
              "      <td>1.844792</td>\n",
              "    </tr>\n",
              "  </tbody>\n",
              "</table>\n",
              "</div>"
            ],
            "text/plain": [
              "               Skew_value\n",
              "MiscVal         21.939672\n",
              "PoolQC          19.548879\n",
              "PoolArea        17.688664\n",
              "LotArea         13.109495\n",
              "LowQualFinSF    12.084539\n",
              "3SsnPorch       11.372080\n",
              "KitchenAbvGr     4.300550\n",
              "BsmtFinSF2       4.144503\n",
              "EnclosedPorch    4.002344\n",
              "ScreenPorch      3.945101\n",
              "BsmtHalfBath     3.929996\n",
              "MasVnrArea       2.621719\n",
              "OpenPorchSF      2.529358\n",
              "SalePrice        1.879360\n",
              "WoodDeckSF       1.844792"
            ]
          },
          "metadata": {
            "tags": []
          },
          "execution_count": 20
        }
      ]
    },
    {
      "cell_type": "code",
      "metadata": {
        "id": "2S56KgL6g8Os"
      },
      "source": [
        "# turn heavily skewed numeric variables towards normal\n",
        "# excluding ordinal variables and counts\n",
        "full_df['MiscVal'] = boxcox1p(full_df['MiscVal'], 0.15)\n",
        "full_df['PoolArea'] = boxcox1p(full_df['PoolArea'], 0.15)\n",
        "full_df['LotArea'] = boxcox1p(full_df['LotArea'], 0.15)\n",
        "full_df['LowQualFinSF'] = boxcox1p(full_df['LowQualFinSF'], 0.15)\n",
        "full_df['3SsnPorch'] = boxcox1p(full_df['3SsnPorch'], 0.15)\n",
        "full_df['KitchenAbvGr'] = boxcox1p(full_df['KitchenAbvGr'], 0.15)\n",
        "full_df['EnclosedPorch'] = boxcox1p(full_df['EnclosedPorch'], 0.15)\n",
        "full_df['BsmtFinSF2'] = boxcox1p(full_df['BsmtFinSF2'], 0.15)\n",
        "full_df['ScreenPorch'] = boxcox1p(full_df['ScreenPorch'], 0.15)\n",
        "\n",
        "# log transformation\n",
        "full_df['LotFrontage'] = boxcox1p(full_df['LotFrontage'], 0)\n",
        "full_df['1stFlrSF'] = boxcox1p(full_df['1stFlrSF'], 0)\n",
        "full_df['GrLivArea'] = boxcox1p(full_df['GrLivArea'], 0)\n",
        "full_df['WoodDeckSF'] = boxcox1p(full_df['WoodDeckSF'], 0)\n",
        "full_df['OpenPorchSF'] = boxcox1p(full_df['OpenPorchSF'], 0)\n",
        "full_df['TotalSF'] = boxcox1p(full_df['TotalSF'], 0)\n",
        "full_df['TotalOutdoorSF'] = boxcox1p(full_df['TotalOutdoorSF'], 0)"
      ],
      "execution_count": null,
      "outputs": []
    },
    {
      "cell_type": "markdown",
      "metadata": {
        "id": "ujDRJb-Iz4FG"
      },
      "source": [
        "#### One-hot encoding (dummy variables)"
      ]
    },
    {
      "cell_type": "code",
      "metadata": {
        "id": "jyW9lgd3z4FG"
      },
      "source": [
        "full_df = pd.get_dummies(data=full_df)"
      ],
      "execution_count": null,
      "outputs": []
    },
    {
      "cell_type": "markdown",
      "metadata": {
        "id": "SctN7O9eibwT"
      },
      "source": [
        "### log transform the TARGET variable for official scoring"
      ]
    },
    {
      "cell_type": "code",
      "metadata": {
        "id": "uExZKGRumedb"
      },
      "source": [
        "full_df['SalePrice'] = np.log1p(full_df['SalePrice'])"
      ],
      "execution_count": null,
      "outputs": []
    },
    {
      "cell_type": "code",
      "metadata": {
        "colab": {
          "base_uri": "https://localhost:8080/"
        },
        "id": "y5jxKtqbBtlP",
        "outputId": "92b2a0d6-2fed-41b5-a7fd-a2691d5fdd03"
      },
      "source": [
        "full_df.shape"
      ],
      "execution_count": null,
      "outputs": [
        {
          "output_type": "execute_result",
          "data": {
            "text/plain": [
              "(2917, 298)"
            ]
          },
          "metadata": {
            "tags": []
          },
          "execution_count": 24
        }
      ]
    },
    {
      "cell_type": "code",
      "metadata": {
        "id": "4plsS_u1RzFl"
      },
      "source": [
        "# split full_df back into train set and test set\n",
        "test_set = full_df.iloc[1458:, :].copy()\n",
        "test_set.drop(columns=['SalePrice'], inplace=True)\n",
        "train_set = full_df.iloc[:1458, :].copy()"
      ],
      "execution_count": null,
      "outputs": []
    },
    {
      "cell_type": "code",
      "metadata": {
        "id": "ePYHPRpl9Pp8"
      },
      "source": [],
      "execution_count": null,
      "outputs": []
    },
    {
      "cell_type": "markdown",
      "metadata": {
        "id": "IT0kvZsG9V6L"
      },
      "source": [
        "# Building Model and Model Evaluation"
      ]
    },
    {
      "cell_type": "code",
      "metadata": {
        "id": "eSvnS7ak4m1i"
      },
      "source": [
        "y_train = train_set['SalePrice']\n",
        "X_train = train_set.drop(columns=['SalePrice'])"
      ],
      "execution_count": null,
      "outputs": []
    },
    {
      "cell_type": "code",
      "metadata": {
        "id": "3dND8uHo3tsR"
      },
      "source": [
        "# cross validation score function\n",
        "fold = KFold(n_splits=12, random_state=42, shuffle=True)\n",
        "\n",
        "def rmse_cv(model):\n",
        "    rmse= np.sqrt(-cross_val_score(model, X_train, y_train, scoring=\"neg_mean_squared_error\", cv = fold))\n",
        "    return(rmse)"
      ],
      "execution_count": null,
      "outputs": []
    },
    {
      "cell_type": "code",
      "metadata": {
        "id": "CLy5i6lXCZS2"
      },
      "source": [
        "# error metrics\n",
        "def rmsle(y, y_pred):\n",
        "    return np.sqrt(mean_squared_error(y, y_pred))"
      ],
      "execution_count": null,
      "outputs": []
    },
    {
      "cell_type": "markdown",
      "metadata": {
        "id": "iKjJmcmlCMb6"
      },
      "source": [
        "## Model 1 - Lasso"
      ]
    },
    {
      "cell_type": "code",
      "metadata": {
        "id": "UXV3ywVsCRYS"
      },
      "source": [
        "# use robust scaler to be robust to outliers\n",
        "best_alpha = 0.00099\n",
        "model_lasso = make_pipeline(RobustScaler(),Lasso(alpha=best_alpha, max_iter=30000))"
      ],
      "execution_count": null,
      "outputs": []
    },
    {
      "cell_type": "code",
      "metadata": {
        "colab": {
          "base_uri": "https://localhost:8080/"
        },
        "id": "mGf_7VH8Cw_n",
        "outputId": "983a725a-3ad4-4f44-c879-ba97a8aa76ea"
      },
      "source": [
        "scores = {}\n",
        "\n",
        "score = rmse_cv(model_lasso)\n",
        "print(\"Lasso (mean, std): {:.4f} ({:.4f})\".format(score.mean(), score.std()))\n",
        "scores['model_lasso'] = (score.mean(), score.std())"
      ],
      "execution_count": null,
      "outputs": [
        {
          "output_type": "stream",
          "text": [
            "Lasso (mean, std): 0.1096 (0.0168)\n"
          ],
          "name": "stdout"
        }
      ]
    },
    {
      "cell_type": "code",
      "metadata": {
        "colab": {
          "base_uri": "https://localhost:8080/"
        },
        "id": "JQbdinm7EKjv",
        "outputId": "c4f7d879-9f04-4c3b-8695-0e20f00694c6"
      },
      "source": [
        "lasso_model_fit = model_lasso.fit(X_train, y_train)\n",
        "lasso_train_pred = lasso_model_fit.predict(X_train)\n",
        "lasso_pred = np.floor(np.expm1(lasso_model_fit.predict(test_set)))\n",
        "print(rmsle(y_train, lasso_train_pred))"
      ],
      "execution_count": null,
      "outputs": [
        {
          "output_type": "stream",
          "text": [
            "0.10195059589336608\n"
          ],
          "name": "stdout"
        }
      ]
    },
    {
      "cell_type": "markdown",
      "metadata": {
        "id": "EwfvHxoDzicB"
      },
      "source": [
        "## Model 2 - XGBoost"
      ]
    },
    {
      "cell_type": "code",
      "metadata": {
        "id": "0_D5acMEc_iV"
      },
      "source": [
        "dtrain = xgb.DMatrix(X_train, label = y_train)\n",
        "params = {\"eta\":0.05}"
      ],
      "execution_count": null,
      "outputs": []
    },
    {
      "cell_type": "code",
      "metadata": {
        "id": "4DQM26GlhPos"
      },
      "source": [
        "# hyperparameter tuning\n",
        "gridsearch_params = [\n",
        "    (max_depth, min_child_weight)\n",
        "    for max_depth in range(2,6)\n",
        "    for min_child_weight in range(0,4)\n",
        "]"
      ],
      "execution_count": null,
      "outputs": []
    },
    {
      "cell_type": "code",
      "metadata": {
        "colab": {
          "base_uri": "https://localhost:8080/"
        },
        "id": "fPUA91XIhfGc",
        "outputId": "c30ea6bd-dcdb-4d3f-d312-719af4f665d1"
      },
      "source": [
        "min_rmse = float(\"Inf\")\n",
        "best_params = None\n",
        "for max_depth, min_child_weight in gridsearch_params:\n",
        "    print(\"CV with max_depth={}, min_child_weight={}\".format(\n",
        "                             max_depth,\n",
        "                             min_child_weight))\n",
        "    # Update our parameters\n",
        "    params['max_depth'] = max_depth\n",
        "    params['min_child_weight'] = min_child_weight\n",
        "    # Run CV\n",
        "    cv_results = xgb.cv(\n",
        "        params,\n",
        "        dtrain,\n",
        "        num_boost_round=1000,\n",
        "        seed=42,\n",
        "        nfold=5,\n",
        "        metrics={'rmse'},\n",
        "        early_stopping_rounds=100\n",
        "    )\n",
        "    # Update best RMSE\n",
        "    mean_rmse = cv_results['test-rmse-mean'].min()\n",
        "    boost_rounds = cv_results['test-rmse-mean'].argmin()\n",
        "    print(\"\\tMAE {} for {} rounds\".format(mean_rmse, boost_rounds))\n",
        "    if mean_rmse < min_rmse:\n",
        "        min_rmse = mean_rmse\n",
        "        best_params = (max_depth,min_child_weight)\n",
        "print(\"Best params: {}, {}, RMSE: {}\".format(best_params[0], best_params[1], min_rmse))"
      ],
      "execution_count": null,
      "outputs": [
        {
          "output_type": "stream",
          "text": [
            "CV with max_depth=2, min_child_weight=0\n",
            "\tMAE 0.009331599999999999 for 647 rounds\n",
            "CV with max_depth=2, min_child_weight=1\n",
            "\tMAE 0.009331599999999999 for 647 rounds\n",
            "CV with max_depth=2, min_child_weight=2\n",
            "\tMAE 0.0091798 for 689 rounds\n",
            "CV with max_depth=2, min_child_weight=3\n",
            "\tMAE 0.009102599999999999 for 720 rounds\n",
            "CV with max_depth=3, min_child_weight=0\n",
            "\tMAE 0.009199200000000001 for 618 rounds\n",
            "CV with max_depth=3, min_child_weight=1\n",
            "\tMAE 0.009199200000000001 for 618 rounds\n",
            "CV with max_depth=3, min_child_weight=2\n",
            "\tMAE 0.009106799999999998 for 556 rounds\n",
            "CV with max_depth=3, min_child_weight=3\n",
            "\tMAE 0.009180400000000002 for 820 rounds\n",
            "CV with max_depth=4, min_child_weight=0\n",
            "\tMAE 0.0092168 for 475 rounds\n",
            "CV with max_depth=4, min_child_weight=1\n",
            "\tMAE 0.0092168 for 475 rounds\n",
            "CV with max_depth=4, min_child_weight=2\n",
            "\tMAE 0.0091706 for 433 rounds\n",
            "CV with max_depth=4, min_child_weight=3\n",
            "\tMAE 0.0092138 for 501 rounds\n",
            "CV with max_depth=5, min_child_weight=0\n",
            "\tMAE 0.0094006 for 728 rounds\n",
            "CV with max_depth=5, min_child_weight=1\n",
            "\tMAE 0.0094006 for 728 rounds\n",
            "CV with max_depth=5, min_child_weight=2\n",
            "\tMAE 0.0092372 for 492 rounds\n",
            "CV with max_depth=5, min_child_weight=3\n",
            "\tMAE 0.0092626 for 458 rounds\n",
            "Best params: 2, 3, RMSE: 0.009102599999999999\n"
          ],
          "name": "stdout"
        }
      ]
    },
    {
      "cell_type": "code",
      "metadata": {
        "colab": {
          "base_uri": "https://localhost:8080/"
        },
        "id": "U4n1twlYbrbW",
        "outputId": "655cc9f2-7e06-4a64-ae7a-b0d942047def"
      },
      "source": [
        "params = {\"eta\":0.05, 'max_depth': 2, 'min_child_weight': 3}\n",
        "params"
      ],
      "execution_count": null,
      "outputs": [
        {
          "output_type": "execute_result",
          "data": {
            "text/plain": [
              "{'eta': 0.05, 'max_depth': 2, 'min_child_weight': 3}"
            ]
          },
          "metadata": {
            "tags": []
          },
          "execution_count": 105
        }
      ]
    },
    {
      "cell_type": "code",
      "metadata": {
        "id": "JlmBrlUw5yu5"
      },
      "source": [
        "model_xgb = xgb.XGBRegressor(n_estimators=720, max_depth=2, learning_rate=0.05, min_child_weight=3,objective='reg:squarederror') #the params were tuned using xgb.cv\n",
        "# model_xgb.fit(X_train, y_train)"
      ],
      "execution_count": null,
      "outputs": []
    },
    {
      "cell_type": "code",
      "metadata": {
        "colab": {
          "base_uri": "https://localhost:8080/"
        },
        "id": "Egoqt-91C78e",
        "outputId": "bdf9c1eb-89d2-430d-bf8f-832284861968"
      },
      "source": [
        "score = rmse_cv(model_xgb)\n",
        "print(\"XGBoost (mean, std): {:.4f} ({:.4f})\".format(score.mean(), score.std()))\n",
        "scores['model_xgb'] = (score.mean(), score.std())"
      ],
      "execution_count": null,
      "outputs": [
        {
          "output_type": "stream",
          "text": [
            "XGBoost (mean, std): 0.1147 (0.0158)\n"
          ],
          "name": "stdout"
        }
      ]
    },
    {
      "cell_type": "code",
      "metadata": {
        "colab": {
          "base_uri": "https://localhost:8080/"
        },
        "id": "F5sFkLYaEU1W",
        "outputId": "c7ea5122-59e2-4ca3-9fce-2e779efe7497"
      },
      "source": [
        "xgb_model_fit = model_xgb.fit(X_train, y_train)\n",
        "xgb_train_pred = xgb_model_fit.predict(X_train)\n",
        "xgb_pred = np.floor(np.expm1(xgb_model_fit.predict(test_set)))\n",
        "print(rmsle(y_train, xgb_train_pred))"
      ],
      "execution_count": null,
      "outputs": [
        {
          "output_type": "stream",
          "text": [
            "0.07599636784227382\n"
          ],
          "name": "stdout"
        }
      ]
    },
    {
      "cell_type": "markdown",
      "metadata": {
        "id": "1XrqnX78C_Dm"
      },
      "source": [
        "## Model 3 - SVR"
      ]
    },
    {
      "cell_type": "code",
      "metadata": {
        "colab": {
          "base_uri": "https://localhost:8080/"
        },
        "id": "2Np2IhXi2euY",
        "outputId": "4bbde8ba-5c69-4317-8ac8-497b24372a8f"
      },
      "source": [
        "# defining parameter range\n",
        "param_grid = {'C': [1, 3, 5, 10, 20, 50], \n",
        "              'gamma': [x/10000000 for x in (1,10,15,20,100,200,3000)],\n",
        "              'epsilon': [0.005, 0.008, 0.01]} \n",
        "  \n",
        "svm_cv = GridSearchCV(SVR(kernel='rbf'), param_grid, refit = True, verbose = 2)\n",
        "  \n",
        "# fitting the model for grid search\n",
        "svm_cv.fit(X_train, y_train)"
      ],
      "execution_count": null,
      "outputs": [
        {
          "output_type": "stream",
          "text": [
            "Fitting 5 folds for each of 126 candidates, totalling 630 fits\n",
            "[CV] C=1, epsilon=0.005, gamma=1e-07 .................................\n"
          ],
          "name": "stdout"
        },
        {
          "output_type": "stream",
          "text": [
            "[Parallel(n_jobs=1)]: Using backend SequentialBackend with 1 concurrent workers.\n"
          ],
          "name": "stderr"
        },
        {
          "output_type": "stream",
          "text": [
            "[CV] .................. C=1, epsilon=0.005, gamma=1e-07, total=   0.7s\n",
            "[CV] C=1, epsilon=0.005, gamma=1e-07 .................................\n"
          ],
          "name": "stdout"
        },
        {
          "output_type": "stream",
          "text": [
            "[Parallel(n_jobs=1)]: Done   1 out of   1 | elapsed:    0.7s remaining:    0.0s\n"
          ],
          "name": "stderr"
        },
        {
          "output_type": "stream",
          "text": [
            "[CV] .................. C=1, epsilon=0.005, gamma=1e-07, total=   0.8s\n",
            "[CV] C=1, epsilon=0.005, gamma=1e-07 .................................\n",
            "[CV] .................. C=1, epsilon=0.005, gamma=1e-07, total=   0.8s\n",
            "[CV] C=1, epsilon=0.005, gamma=1e-07 .................................\n",
            "[CV] .................. C=1, epsilon=0.005, gamma=1e-07, total=   0.8s\n",
            "[CV] C=1, epsilon=0.005, gamma=1e-07 .................................\n",
            "[CV] .................. C=1, epsilon=0.005, gamma=1e-07, total=   0.8s\n",
            "[CV] C=1, epsilon=0.005, gamma=1e-06 .................................\n",
            "[CV] .................. C=1, epsilon=0.005, gamma=1e-06, total=   0.8s\n",
            "[CV] C=1, epsilon=0.005, gamma=1e-06 .................................\n",
            "[CV] .................. C=1, epsilon=0.005, gamma=1e-06, total=   0.8s\n",
            "[CV] C=1, epsilon=0.005, gamma=1e-06 .................................\n",
            "[CV] .................. C=1, epsilon=0.005, gamma=1e-06, total=   0.8s\n",
            "[CV] C=1, epsilon=0.005, gamma=1e-06 .................................\n",
            "[CV] .................. C=1, epsilon=0.005, gamma=1e-06, total=   0.8s\n",
            "[CV] C=1, epsilon=0.005, gamma=1e-06 .................................\n",
            "[CV] .................. C=1, epsilon=0.005, gamma=1e-06, total=   0.8s\n",
            "[CV] C=1, epsilon=0.005, gamma=1.5e-06 ...............................\n",
            "[CV] ................ C=1, epsilon=0.005, gamma=1.5e-06, total=   0.8s\n",
            "[CV] C=1, epsilon=0.005, gamma=1.5e-06 ...............................\n",
            "[CV] ................ C=1, epsilon=0.005, gamma=1.5e-06, total=   0.8s\n",
            "[CV] C=1, epsilon=0.005, gamma=1.5e-06 ...............................\n",
            "[CV] ................ C=1, epsilon=0.005, gamma=1.5e-06, total=   0.8s\n",
            "[CV] C=1, epsilon=0.005, gamma=1.5e-06 ...............................\n",
            "[CV] ................ C=1, epsilon=0.005, gamma=1.5e-06, total=   0.8s\n",
            "[CV] C=1, epsilon=0.005, gamma=1.5e-06 ...............................\n",
            "[CV] ................ C=1, epsilon=0.005, gamma=1.5e-06, total=   0.8s\n",
            "[CV] C=1, epsilon=0.005, gamma=2e-06 .................................\n",
            "[CV] .................. C=1, epsilon=0.005, gamma=2e-06, total=   0.8s\n",
            "[CV] C=1, epsilon=0.005, gamma=2e-06 .................................\n",
            "[CV] .................. C=1, epsilon=0.005, gamma=2e-06, total=   0.8s\n",
            "[CV] C=1, epsilon=0.005, gamma=2e-06 .................................\n",
            "[CV] .................. C=1, epsilon=0.005, gamma=2e-06, total=   0.8s\n",
            "[CV] C=1, epsilon=0.005, gamma=2e-06 .................................\n",
            "[CV] .................. C=1, epsilon=0.005, gamma=2e-06, total=   0.8s\n",
            "[CV] C=1, epsilon=0.005, gamma=2e-06 .................................\n",
            "[CV] .................. C=1, epsilon=0.005, gamma=2e-06, total=   0.8s\n",
            "[CV] C=1, epsilon=0.005, gamma=1e-05 .................................\n",
            "[CV] .................. C=1, epsilon=0.005, gamma=1e-05, total=   0.8s\n",
            "[CV] C=1, epsilon=0.005, gamma=1e-05 .................................\n",
            "[CV] .................. C=1, epsilon=0.005, gamma=1e-05, total=   0.8s\n",
            "[CV] C=1, epsilon=0.005, gamma=1e-05 .................................\n",
            "[CV] .................. C=1, epsilon=0.005, gamma=1e-05, total=   0.8s\n",
            "[CV] C=1, epsilon=0.005, gamma=1e-05 .................................\n",
            "[CV] .................. C=1, epsilon=0.005, gamma=1e-05, total=   0.8s\n",
            "[CV] C=1, epsilon=0.005, gamma=1e-05 .................................\n",
            "[CV] .................. C=1, epsilon=0.005, gamma=1e-05, total=   0.8s\n",
            "[CV] C=1, epsilon=0.005, gamma=2e-05 .................................\n",
            "[CV] .................. C=1, epsilon=0.005, gamma=2e-05, total=   0.9s\n",
            "[CV] C=1, epsilon=0.005, gamma=2e-05 .................................\n",
            "[CV] .................. C=1, epsilon=0.005, gamma=2e-05, total=   0.9s\n",
            "[CV] C=1, epsilon=0.005, gamma=2e-05 .................................\n",
            "[CV] .................. C=1, epsilon=0.005, gamma=2e-05, total=   0.9s\n",
            "[CV] C=1, epsilon=0.005, gamma=2e-05 .................................\n",
            "[CV] .................. C=1, epsilon=0.005, gamma=2e-05, total=   0.9s\n",
            "[CV] C=1, epsilon=0.005, gamma=2e-05 .................................\n",
            "[CV] .................. C=1, epsilon=0.005, gamma=2e-05, total=   0.9s\n",
            "[CV] C=1, epsilon=0.005, gamma=0.0003 ................................\n",
            "[CV] ................. C=1, epsilon=0.005, gamma=0.0003, total=   0.8s\n",
            "[CV] C=1, epsilon=0.005, gamma=0.0003 ................................\n",
            "[CV] ................. C=1, epsilon=0.005, gamma=0.0003, total=   0.8s\n",
            "[CV] C=1, epsilon=0.005, gamma=0.0003 ................................\n",
            "[CV] ................. C=1, epsilon=0.005, gamma=0.0003, total=   0.8s\n",
            "[CV] C=1, epsilon=0.005, gamma=0.0003 ................................\n",
            "[CV] ................. C=1, epsilon=0.005, gamma=0.0003, total=   0.8s\n",
            "[CV] C=1, epsilon=0.005, gamma=0.0003 ................................\n",
            "[CV] ................. C=1, epsilon=0.005, gamma=0.0003, total=   0.8s\n",
            "[CV] C=1, epsilon=0.008, gamma=1e-07 .................................\n",
            "[CV] .................. C=1, epsilon=0.008, gamma=1e-07, total=   0.7s\n",
            "[CV] C=1, epsilon=0.008, gamma=1e-07 .................................\n",
            "[CV] .................. C=1, epsilon=0.008, gamma=1e-07, total=   0.7s\n",
            "[CV] C=1, epsilon=0.008, gamma=1e-07 .................................\n",
            "[CV] .................. C=1, epsilon=0.008, gamma=1e-07, total=   0.8s\n",
            "[CV] C=1, epsilon=0.008, gamma=1e-07 .................................\n",
            "[CV] .................. C=1, epsilon=0.008, gamma=1e-07, total=   0.8s\n",
            "[CV] C=1, epsilon=0.008, gamma=1e-07 .................................\n",
            "[CV] .................. C=1, epsilon=0.008, gamma=1e-07, total=   0.7s\n",
            "[CV] C=1, epsilon=0.008, gamma=1e-06 .................................\n",
            "[CV] .................. C=1, epsilon=0.008, gamma=1e-06, total=   0.8s\n",
            "[CV] C=1, epsilon=0.008, gamma=1e-06 .................................\n",
            "[CV] .................. C=1, epsilon=0.008, gamma=1e-06, total=   0.8s\n",
            "[CV] C=1, epsilon=0.008, gamma=1e-06 .................................\n",
            "[CV] .................. C=1, epsilon=0.008, gamma=1e-06, total=   0.7s\n",
            "[CV] C=1, epsilon=0.008, gamma=1e-06 .................................\n",
            "[CV] .................. C=1, epsilon=0.008, gamma=1e-06, total=   0.8s\n",
            "[CV] C=1, epsilon=0.008, gamma=1e-06 .................................\n",
            "[CV] .................. C=1, epsilon=0.008, gamma=1e-06, total=   0.8s\n",
            "[CV] C=1, epsilon=0.008, gamma=1.5e-06 ...............................\n",
            "[CV] ................ C=1, epsilon=0.008, gamma=1.5e-06, total=   0.8s\n",
            "[CV] C=1, epsilon=0.008, gamma=1.5e-06 ...............................\n",
            "[CV] ................ C=1, epsilon=0.008, gamma=1.5e-06, total=   0.8s\n",
            "[CV] C=1, epsilon=0.008, gamma=1.5e-06 ...............................\n",
            "[CV] ................ C=1, epsilon=0.008, gamma=1.5e-06, total=   0.8s\n",
            "[CV] C=1, epsilon=0.008, gamma=1.5e-06 ...............................\n",
            "[CV] ................ C=1, epsilon=0.008, gamma=1.5e-06, total=   0.8s\n",
            "[CV] C=1, epsilon=0.008, gamma=1.5e-06 ...............................\n",
            "[CV] ................ C=1, epsilon=0.008, gamma=1.5e-06, total=   0.8s\n",
            "[CV] C=1, epsilon=0.008, gamma=2e-06 .................................\n",
            "[CV] .................. C=1, epsilon=0.008, gamma=2e-06, total=   0.8s\n",
            "[CV] C=1, epsilon=0.008, gamma=2e-06 .................................\n",
            "[CV] .................. C=1, epsilon=0.008, gamma=2e-06, total=   0.8s\n",
            "[CV] C=1, epsilon=0.008, gamma=2e-06 .................................\n",
            "[CV] .................. C=1, epsilon=0.008, gamma=2e-06, total=   0.8s\n",
            "[CV] C=1, epsilon=0.008, gamma=2e-06 .................................\n",
            "[CV] .................. C=1, epsilon=0.008, gamma=2e-06, total=   0.8s\n",
            "[CV] C=1, epsilon=0.008, gamma=2e-06 .................................\n",
            "[CV] .................. C=1, epsilon=0.008, gamma=2e-06, total=   0.8s\n",
            "[CV] C=1, epsilon=0.008, gamma=1e-05 .................................\n",
            "[CV] .................. C=1, epsilon=0.008, gamma=1e-05, total=   0.8s\n",
            "[CV] C=1, epsilon=0.008, gamma=1e-05 .................................\n",
            "[CV] .................. C=1, epsilon=0.008, gamma=1e-05, total=   0.8s\n",
            "[CV] C=1, epsilon=0.008, gamma=1e-05 .................................\n",
            "[CV] .................. C=1, epsilon=0.008, gamma=1e-05, total=   0.8s\n",
            "[CV] C=1, epsilon=0.008, gamma=1e-05 .................................\n",
            "[CV] .................. C=1, epsilon=0.008, gamma=1e-05, total=   0.9s\n",
            "[CV] C=1, epsilon=0.008, gamma=1e-05 .................................\n",
            "[CV] .................. C=1, epsilon=0.008, gamma=1e-05, total=   0.8s\n",
            "[CV] C=1, epsilon=0.008, gamma=2e-05 .................................\n",
            "[CV] .................. C=1, epsilon=0.008, gamma=2e-05, total=   0.9s\n",
            "[CV] C=1, epsilon=0.008, gamma=2e-05 .................................\n",
            "[CV] .................. C=1, epsilon=0.008, gamma=2e-05, total=   0.9s\n",
            "[CV] C=1, epsilon=0.008, gamma=2e-05 .................................\n",
            "[CV] .................. C=1, epsilon=0.008, gamma=2e-05, total=   0.9s\n",
            "[CV] C=1, epsilon=0.008, gamma=2e-05 .................................\n",
            "[CV] .................. C=1, epsilon=0.008, gamma=2e-05, total=   0.9s\n",
            "[CV] C=1, epsilon=0.008, gamma=2e-05 .................................\n",
            "[CV] .................. C=1, epsilon=0.008, gamma=2e-05, total=   0.9s\n",
            "[CV] C=1, epsilon=0.008, gamma=0.0003 ................................\n",
            "[CV] ................. C=1, epsilon=0.008, gamma=0.0003, total=   0.8s\n",
            "[CV] C=1, epsilon=0.008, gamma=0.0003 ................................\n",
            "[CV] ................. C=1, epsilon=0.008, gamma=0.0003, total=   0.8s\n",
            "[CV] C=1, epsilon=0.008, gamma=0.0003 ................................\n",
            "[CV] ................. C=1, epsilon=0.008, gamma=0.0003, total=   0.8s\n",
            "[CV] C=1, epsilon=0.008, gamma=0.0003 ................................\n",
            "[CV] ................. C=1, epsilon=0.008, gamma=0.0003, total=   0.8s\n",
            "[CV] C=1, epsilon=0.008, gamma=0.0003 ................................\n",
            "[CV] ................. C=1, epsilon=0.008, gamma=0.0003, total=   0.8s\n",
            "[CV] C=1, epsilon=0.01, gamma=1e-07 ..................................\n",
            "[CV] ................... C=1, epsilon=0.01, gamma=1e-07, total=   0.7s\n",
            "[CV] C=1, epsilon=0.01, gamma=1e-07 ..................................\n",
            "[CV] ................... C=1, epsilon=0.01, gamma=1e-07, total=   0.7s\n",
            "[CV] C=1, epsilon=0.01, gamma=1e-07 ..................................\n",
            "[CV] ................... C=1, epsilon=0.01, gamma=1e-07, total=   0.7s\n",
            "[CV] C=1, epsilon=0.01, gamma=1e-07 ..................................\n",
            "[CV] ................... C=1, epsilon=0.01, gamma=1e-07, total=   0.7s\n",
            "[CV] C=1, epsilon=0.01, gamma=1e-07 ..................................\n",
            "[CV] ................... C=1, epsilon=0.01, gamma=1e-07, total=   0.7s\n",
            "[CV] C=1, epsilon=0.01, gamma=1e-06 ..................................\n",
            "[CV] ................... C=1, epsilon=0.01, gamma=1e-06, total=   0.7s\n",
            "[CV] C=1, epsilon=0.01, gamma=1e-06 ..................................\n",
            "[CV] ................... C=1, epsilon=0.01, gamma=1e-06, total=   0.7s\n",
            "[CV] C=1, epsilon=0.01, gamma=1e-06 ..................................\n",
            "[CV] ................... C=1, epsilon=0.01, gamma=1e-06, total=   0.7s\n",
            "[CV] C=1, epsilon=0.01, gamma=1e-06 ..................................\n",
            "[CV] ................... C=1, epsilon=0.01, gamma=1e-06, total=   0.8s\n",
            "[CV] C=1, epsilon=0.01, gamma=1e-06 ..................................\n",
            "[CV] ................... C=1, epsilon=0.01, gamma=1e-06, total=   0.8s\n",
            "[CV] C=1, epsilon=0.01, gamma=1.5e-06 ................................\n",
            "[CV] ................. C=1, epsilon=0.01, gamma=1.5e-06, total=   0.8s\n",
            "[CV] C=1, epsilon=0.01, gamma=1.5e-06 ................................\n",
            "[CV] ................. C=1, epsilon=0.01, gamma=1.5e-06, total=   0.8s\n",
            "[CV] C=1, epsilon=0.01, gamma=1.5e-06 ................................\n",
            "[CV] ................. C=1, epsilon=0.01, gamma=1.5e-06, total=   0.8s\n",
            "[CV] C=1, epsilon=0.01, gamma=1.5e-06 ................................\n",
            "[CV] ................. C=1, epsilon=0.01, gamma=1.5e-06, total=   0.8s\n",
            "[CV] C=1, epsilon=0.01, gamma=1.5e-06 ................................\n",
            "[CV] ................. C=1, epsilon=0.01, gamma=1.5e-06, total=   0.8s\n",
            "[CV] C=1, epsilon=0.01, gamma=2e-06 ..................................\n",
            "[CV] ................... C=1, epsilon=0.01, gamma=2e-06, total=   0.8s\n",
            "[CV] C=1, epsilon=0.01, gamma=2e-06 ..................................\n",
            "[CV] ................... C=1, epsilon=0.01, gamma=2e-06, total=   0.8s\n",
            "[CV] C=1, epsilon=0.01, gamma=2e-06 ..................................\n",
            "[CV] ................... C=1, epsilon=0.01, gamma=2e-06, total=   0.8s\n",
            "[CV] C=1, epsilon=0.01, gamma=2e-06 ..................................\n",
            "[CV] ................... C=1, epsilon=0.01, gamma=2e-06, total=   0.8s\n",
            "[CV] C=1, epsilon=0.01, gamma=2e-06 ..................................\n",
            "[CV] ................... C=1, epsilon=0.01, gamma=2e-06, total=   0.8s\n",
            "[CV] C=1, epsilon=0.01, gamma=1e-05 ..................................\n",
            "[CV] ................... C=1, epsilon=0.01, gamma=1e-05, total=   0.8s\n",
            "[CV] C=1, epsilon=0.01, gamma=1e-05 ..................................\n",
            "[CV] ................... C=1, epsilon=0.01, gamma=1e-05, total=   0.8s\n",
            "[CV] C=1, epsilon=0.01, gamma=1e-05 ..................................\n",
            "[CV] ................... C=1, epsilon=0.01, gamma=1e-05, total=   0.8s\n",
            "[CV] C=1, epsilon=0.01, gamma=1e-05 ..................................\n",
            "[CV] ................... C=1, epsilon=0.01, gamma=1e-05, total=   0.8s\n",
            "[CV] C=1, epsilon=0.01, gamma=1e-05 ..................................\n",
            "[CV] ................... C=1, epsilon=0.01, gamma=1e-05, total=   0.8s\n",
            "[CV] C=1, epsilon=0.01, gamma=2e-05 ..................................\n",
            "[CV] ................... C=1, epsilon=0.01, gamma=2e-05, total=   0.8s\n",
            "[CV] C=1, epsilon=0.01, gamma=2e-05 ..................................\n",
            "[CV] ................... C=1, epsilon=0.01, gamma=2e-05, total=   0.8s\n",
            "[CV] C=1, epsilon=0.01, gamma=2e-05 ..................................\n",
            "[CV] ................... C=1, epsilon=0.01, gamma=2e-05, total=   0.9s\n",
            "[CV] C=1, epsilon=0.01, gamma=2e-05 ..................................\n",
            "[CV] ................... C=1, epsilon=0.01, gamma=2e-05, total=   0.9s\n",
            "[CV] C=1, epsilon=0.01, gamma=2e-05 ..................................\n",
            "[CV] ................... C=1, epsilon=0.01, gamma=2e-05, total=   0.8s\n",
            "[CV] C=1, epsilon=0.01, gamma=0.0003 .................................\n",
            "[CV] .................. C=1, epsilon=0.01, gamma=0.0003, total=   0.8s\n",
            "[CV] C=1, epsilon=0.01, gamma=0.0003 .................................\n",
            "[CV] .................. C=1, epsilon=0.01, gamma=0.0003, total=   0.8s\n",
            "[CV] C=1, epsilon=0.01, gamma=0.0003 .................................\n",
            "[CV] .................. C=1, epsilon=0.01, gamma=0.0003, total=   0.8s\n",
            "[CV] C=1, epsilon=0.01, gamma=0.0003 .................................\n",
            "[CV] .................. C=1, epsilon=0.01, gamma=0.0003, total=   0.8s\n",
            "[CV] C=1, epsilon=0.01, gamma=0.0003 .................................\n",
            "[CV] .................. C=1, epsilon=0.01, gamma=0.0003, total=   0.8s\n",
            "[CV] C=3, epsilon=0.005, gamma=1e-07 .................................\n",
            "[CV] .................. C=3, epsilon=0.005, gamma=1e-07, total=   0.8s\n",
            "[CV] C=3, epsilon=0.005, gamma=1e-07 .................................\n",
            "[CV] .................. C=3, epsilon=0.005, gamma=1e-07, total=   0.8s\n",
            "[CV] C=3, epsilon=0.005, gamma=1e-07 .................................\n",
            "[CV] .................. C=3, epsilon=0.005, gamma=1e-07, total=   0.8s\n",
            "[CV] C=3, epsilon=0.005, gamma=1e-07 .................................\n",
            "[CV] .................. C=3, epsilon=0.005, gamma=1e-07, total=   0.8s\n",
            "[CV] C=3, epsilon=0.005, gamma=1e-07 .................................\n",
            "[CV] .................. C=3, epsilon=0.005, gamma=1e-07, total=   0.8s\n",
            "[CV] C=3, epsilon=0.005, gamma=1e-06 .................................\n",
            "[CV] .................. C=3, epsilon=0.005, gamma=1e-06, total=   0.8s\n",
            "[CV] C=3, epsilon=0.005, gamma=1e-06 .................................\n",
            "[CV] .................. C=3, epsilon=0.005, gamma=1e-06, total=   0.8s\n",
            "[CV] C=3, epsilon=0.005, gamma=1e-06 .................................\n",
            "[CV] .................. C=3, epsilon=0.005, gamma=1e-06, total=   0.8s\n",
            "[CV] C=3, epsilon=0.005, gamma=1e-06 .................................\n",
            "[CV] .................. C=3, epsilon=0.005, gamma=1e-06, total=   0.9s\n",
            "[CV] C=3, epsilon=0.005, gamma=1e-06 .................................\n",
            "[CV] .................. C=3, epsilon=0.005, gamma=1e-06, total=   0.9s\n",
            "[CV] C=3, epsilon=0.005, gamma=1.5e-06 ...............................\n",
            "[CV] ................ C=3, epsilon=0.005, gamma=1.5e-06, total=   0.9s\n",
            "[CV] C=3, epsilon=0.005, gamma=1.5e-06 ...............................\n",
            "[CV] ................ C=3, epsilon=0.005, gamma=1.5e-06, total=   0.9s\n",
            "[CV] C=3, epsilon=0.005, gamma=1.5e-06 ...............................\n",
            "[CV] ................ C=3, epsilon=0.005, gamma=1.5e-06, total=   0.9s\n",
            "[CV] C=3, epsilon=0.005, gamma=1.5e-06 ...............................\n",
            "[CV] ................ C=3, epsilon=0.005, gamma=1.5e-06, total=   0.9s\n",
            "[CV] C=3, epsilon=0.005, gamma=1.5e-06 ...............................\n",
            "[CV] ................ C=3, epsilon=0.005, gamma=1.5e-06, total=   0.9s\n",
            "[CV] C=3, epsilon=0.005, gamma=2e-06 .................................\n",
            "[CV] .................. C=3, epsilon=0.005, gamma=2e-06, total=   0.9s\n",
            "[CV] C=3, epsilon=0.005, gamma=2e-06 .................................\n",
            "[CV] .................. C=3, epsilon=0.005, gamma=2e-06, total=   0.9s\n",
            "[CV] C=3, epsilon=0.005, gamma=2e-06 .................................\n",
            "[CV] .................. C=3, epsilon=0.005, gamma=2e-06, total=   0.9s\n",
            "[CV] C=3, epsilon=0.005, gamma=2e-06 .................................\n",
            "[CV] .................. C=3, epsilon=0.005, gamma=2e-06, total=   0.9s\n",
            "[CV] C=3, epsilon=0.005, gamma=2e-06 .................................\n",
            "[CV] .................. C=3, epsilon=0.005, gamma=2e-06, total=   0.9s\n",
            "[CV] C=3, epsilon=0.005, gamma=1e-05 .................................\n",
            "[CV] .................. C=3, epsilon=0.005, gamma=1e-05, total=   1.0s\n",
            "[CV] C=3, epsilon=0.005, gamma=1e-05 .................................\n",
            "[CV] .................. C=3, epsilon=0.005, gamma=1e-05, total=   0.9s\n",
            "[CV] C=3, epsilon=0.005, gamma=1e-05 .................................\n",
            "[CV] .................. C=3, epsilon=0.005, gamma=1e-05, total=   1.0s\n",
            "[CV] C=3, epsilon=0.005, gamma=1e-05 .................................\n",
            "[CV] .................. C=3, epsilon=0.005, gamma=1e-05, total=   1.0s\n",
            "[CV] C=3, epsilon=0.005, gamma=1e-05 .................................\n",
            "[CV] .................. C=3, epsilon=0.005, gamma=1e-05, total=   1.0s\n",
            "[CV] C=3, epsilon=0.005, gamma=2e-05 .................................\n",
            "[CV] .................. C=3, epsilon=0.005, gamma=2e-05, total=   1.0s\n",
            "[CV] C=3, epsilon=0.005, gamma=2e-05 .................................\n",
            "[CV] .................. C=3, epsilon=0.005, gamma=2e-05, total=   1.0s\n",
            "[CV] C=3, epsilon=0.005, gamma=2e-05 .................................\n",
            "[CV] .................. C=3, epsilon=0.005, gamma=2e-05, total=   1.0s\n",
            "[CV] C=3, epsilon=0.005, gamma=2e-05 .................................\n",
            "[CV] .................. C=3, epsilon=0.005, gamma=2e-05, total=   1.0s\n",
            "[CV] C=3, epsilon=0.005, gamma=2e-05 .................................\n",
            "[CV] .................. C=3, epsilon=0.005, gamma=2e-05, total=   1.0s\n",
            "[CV] C=3, epsilon=0.005, gamma=0.0003 ................................\n",
            "[CV] ................. C=3, epsilon=0.005, gamma=0.0003, total=   0.8s\n",
            "[CV] C=3, epsilon=0.005, gamma=0.0003 ................................\n",
            "[CV] ................. C=3, epsilon=0.005, gamma=0.0003, total=   0.8s\n",
            "[CV] C=3, epsilon=0.005, gamma=0.0003 ................................\n",
            "[CV] ................. C=3, epsilon=0.005, gamma=0.0003, total=   0.8s\n",
            "[CV] C=3, epsilon=0.005, gamma=0.0003 ................................\n",
            "[CV] ................. C=3, epsilon=0.005, gamma=0.0003, total=   0.8s\n",
            "[CV] C=3, epsilon=0.005, gamma=0.0003 ................................\n",
            "[CV] ................. C=3, epsilon=0.005, gamma=0.0003, total=   0.8s\n",
            "[CV] C=3, epsilon=0.008, gamma=1e-07 .................................\n",
            "[CV] .................. C=3, epsilon=0.008, gamma=1e-07, total=   0.7s\n",
            "[CV] C=3, epsilon=0.008, gamma=1e-07 .................................\n",
            "[CV] .................. C=3, epsilon=0.008, gamma=1e-07, total=   0.7s\n",
            "[CV] C=3, epsilon=0.008, gamma=1e-07 .................................\n",
            "[CV] .................. C=3, epsilon=0.008, gamma=1e-07, total=   0.8s\n",
            "[CV] C=3, epsilon=0.008, gamma=1e-07 .................................\n",
            "[CV] .................. C=3, epsilon=0.008, gamma=1e-07, total=   0.7s\n",
            "[CV] C=3, epsilon=0.008, gamma=1e-07 .................................\n",
            "[CV] .................. C=3, epsilon=0.008, gamma=1e-07, total=   0.7s\n",
            "[CV] C=3, epsilon=0.008, gamma=1e-06 .................................\n",
            "[CV] .................. C=3, epsilon=0.008, gamma=1e-06, total=   0.8s\n",
            "[CV] C=3, epsilon=0.008, gamma=1e-06 .................................\n",
            "[CV] .................. C=3, epsilon=0.008, gamma=1e-06, total=   0.8s\n",
            "[CV] C=3, epsilon=0.008, gamma=1e-06 .................................\n",
            "[CV] .................. C=3, epsilon=0.008, gamma=1e-06, total=   0.8s\n",
            "[CV] C=3, epsilon=0.008, gamma=1e-06 .................................\n",
            "[CV] .................. C=3, epsilon=0.008, gamma=1e-06, total=   0.8s\n",
            "[CV] C=3, epsilon=0.008, gamma=1e-06 .................................\n",
            "[CV] .................. C=3, epsilon=0.008, gamma=1e-06, total=   0.8s\n",
            "[CV] C=3, epsilon=0.008, gamma=1.5e-06 ...............................\n",
            "[CV] ................ C=3, epsilon=0.008, gamma=1.5e-06, total=   0.8s\n",
            "[CV] C=3, epsilon=0.008, gamma=1.5e-06 ...............................\n",
            "[CV] ................ C=3, epsilon=0.008, gamma=1.5e-06, total=   0.9s\n",
            "[CV] C=3, epsilon=0.008, gamma=1.5e-06 ...............................\n",
            "[CV] ................ C=3, epsilon=0.008, gamma=1.5e-06, total=   0.9s\n",
            "[CV] C=3, epsilon=0.008, gamma=1.5e-06 ...............................\n",
            "[CV] ................ C=3, epsilon=0.008, gamma=1.5e-06, total=   0.8s\n",
            "[CV] C=3, epsilon=0.008, gamma=1.5e-06 ...............................\n",
            "[CV] ................ C=3, epsilon=0.008, gamma=1.5e-06, total=   0.8s\n",
            "[CV] C=3, epsilon=0.008, gamma=2e-06 .................................\n",
            "[CV] .................. C=3, epsilon=0.008, gamma=2e-06, total=   0.9s\n",
            "[CV] C=3, epsilon=0.008, gamma=2e-06 .................................\n",
            "[CV] .................. C=3, epsilon=0.008, gamma=2e-06, total=   0.9s\n",
            "[CV] C=3, epsilon=0.008, gamma=2e-06 .................................\n",
            "[CV] .................. C=3, epsilon=0.008, gamma=2e-06, total=   0.9s\n",
            "[CV] C=3, epsilon=0.008, gamma=2e-06 .................................\n",
            "[CV] .................. C=3, epsilon=0.008, gamma=2e-06, total=   0.9s\n",
            "[CV] C=3, epsilon=0.008, gamma=2e-06 .................................\n",
            "[CV] .................. C=3, epsilon=0.008, gamma=2e-06, total=   0.9s\n",
            "[CV] C=3, epsilon=0.008, gamma=1e-05 .................................\n",
            "[CV] .................. C=3, epsilon=0.008, gamma=1e-05, total=   0.9s\n",
            "[CV] C=3, epsilon=0.008, gamma=1e-05 .................................\n",
            "[CV] .................. C=3, epsilon=0.008, gamma=1e-05, total=   0.9s\n",
            "[CV] C=3, epsilon=0.008, gamma=1e-05 .................................\n",
            "[CV] .................. C=3, epsilon=0.008, gamma=1e-05, total=   0.9s\n",
            "[CV] C=3, epsilon=0.008, gamma=1e-05 .................................\n",
            "[CV] .................. C=3, epsilon=0.008, gamma=1e-05, total=   1.0s\n",
            "[CV] C=3, epsilon=0.008, gamma=1e-05 .................................\n",
            "[CV] .................. C=3, epsilon=0.008, gamma=1e-05, total=   0.9s\n",
            "[CV] C=3, epsilon=0.008, gamma=2e-05 .................................\n",
            "[CV] .................. C=3, epsilon=0.008, gamma=2e-05, total=   1.0s\n",
            "[CV] C=3, epsilon=0.008, gamma=2e-05 .................................\n",
            "[CV] .................. C=3, epsilon=0.008, gamma=2e-05, total=   1.0s\n",
            "[CV] C=3, epsilon=0.008, gamma=2e-05 .................................\n",
            "[CV] .................. C=3, epsilon=0.008, gamma=2e-05, total=   1.0s\n",
            "[CV] C=3, epsilon=0.008, gamma=2e-05 .................................\n",
            "[CV] .................. C=3, epsilon=0.008, gamma=2e-05, total=   1.0s\n",
            "[CV] C=3, epsilon=0.008, gamma=2e-05 .................................\n",
            "[CV] .................. C=3, epsilon=0.008, gamma=2e-05, total=   1.0s\n",
            "[CV] C=3, epsilon=0.008, gamma=0.0003 ................................\n",
            "[CV] ................. C=3, epsilon=0.008, gamma=0.0003, total=   0.8s\n",
            "[CV] C=3, epsilon=0.008, gamma=0.0003 ................................\n",
            "[CV] ................. C=3, epsilon=0.008, gamma=0.0003, total=   0.8s\n",
            "[CV] C=3, epsilon=0.008, gamma=0.0003 ................................\n",
            "[CV] ................. C=3, epsilon=0.008, gamma=0.0003, total=   0.8s\n",
            "[CV] C=3, epsilon=0.008, gamma=0.0003 ................................\n",
            "[CV] ................. C=3, epsilon=0.008, gamma=0.0003, total=   0.8s\n",
            "[CV] C=3, epsilon=0.008, gamma=0.0003 ................................\n",
            "[CV] ................. C=3, epsilon=0.008, gamma=0.0003, total=   0.8s\n",
            "[CV] C=3, epsilon=0.01, gamma=1e-07 ..................................\n",
            "[CV] ................... C=3, epsilon=0.01, gamma=1e-07, total=   0.7s\n",
            "[CV] C=3, epsilon=0.01, gamma=1e-07 ..................................\n",
            "[CV] ................... C=3, epsilon=0.01, gamma=1e-07, total=   0.7s\n",
            "[CV] C=3, epsilon=0.01, gamma=1e-07 ..................................\n",
            "[CV] ................... C=3, epsilon=0.01, gamma=1e-07, total=   0.7s\n",
            "[CV] C=3, epsilon=0.01, gamma=1e-07 ..................................\n",
            "[CV] ................... C=3, epsilon=0.01, gamma=1e-07, total=   0.8s\n",
            "[CV] C=3, epsilon=0.01, gamma=1e-07 ..................................\n",
            "[CV] ................... C=3, epsilon=0.01, gamma=1e-07, total=   0.7s\n",
            "[CV] C=3, epsilon=0.01, gamma=1e-06 ..................................\n",
            "[CV] ................... C=3, epsilon=0.01, gamma=1e-06, total=   0.8s\n",
            "[CV] C=3, epsilon=0.01, gamma=1e-06 ..................................\n",
            "[CV] ................... C=3, epsilon=0.01, gamma=1e-06, total=   0.8s\n",
            "[CV] C=3, epsilon=0.01, gamma=1e-06 ..................................\n",
            "[CV] ................... C=3, epsilon=0.01, gamma=1e-06, total=   0.8s\n",
            "[CV] C=3, epsilon=0.01, gamma=1e-06 ..................................\n",
            "[CV] ................... C=3, epsilon=0.01, gamma=1e-06, total=   0.8s\n",
            "[CV] C=3, epsilon=0.01, gamma=1e-06 ..................................\n",
            "[CV] ................... C=3, epsilon=0.01, gamma=1e-06, total=   0.8s\n",
            "[CV] C=3, epsilon=0.01, gamma=1.5e-06 ................................\n",
            "[CV] ................. C=3, epsilon=0.01, gamma=1.5e-06, total=   0.8s\n",
            "[CV] C=3, epsilon=0.01, gamma=1.5e-06 ................................\n",
            "[CV] ................. C=3, epsilon=0.01, gamma=1.5e-06, total=   0.8s\n",
            "[CV] C=3, epsilon=0.01, gamma=1.5e-06 ................................\n",
            "[CV] ................. C=3, epsilon=0.01, gamma=1.5e-06, total=   0.8s\n",
            "[CV] C=3, epsilon=0.01, gamma=1.5e-06 ................................\n",
            "[CV] ................. C=3, epsilon=0.01, gamma=1.5e-06, total=   0.8s\n",
            "[CV] C=3, epsilon=0.01, gamma=1.5e-06 ................................\n",
            "[CV] ................. C=3, epsilon=0.01, gamma=1.5e-06, total=   0.8s\n",
            "[CV] C=3, epsilon=0.01, gamma=2e-06 ..................................\n",
            "[CV] ................... C=3, epsilon=0.01, gamma=2e-06, total=   0.9s\n",
            "[CV] C=3, epsilon=0.01, gamma=2e-06 ..................................\n",
            "[CV] ................... C=3, epsilon=0.01, gamma=2e-06, total=   0.9s\n",
            "[CV] C=3, epsilon=0.01, gamma=2e-06 ..................................\n",
            "[CV] ................... C=3, epsilon=0.01, gamma=2e-06, total=   0.8s\n",
            "[CV] C=3, epsilon=0.01, gamma=2e-06 ..................................\n",
            "[CV] ................... C=3, epsilon=0.01, gamma=2e-06, total=   0.9s\n",
            "[CV] C=3, epsilon=0.01, gamma=2e-06 ..................................\n",
            "[CV] ................... C=3, epsilon=0.01, gamma=2e-06, total=   0.9s\n",
            "[CV] C=3, epsilon=0.01, gamma=1e-05 ..................................\n",
            "[CV] ................... C=3, epsilon=0.01, gamma=1e-05, total=   1.0s\n",
            "[CV] C=3, epsilon=0.01, gamma=1e-05 ..................................\n",
            "[CV] ................... C=3, epsilon=0.01, gamma=1e-05, total=   0.9s\n",
            "[CV] C=3, epsilon=0.01, gamma=1e-05 ..................................\n",
            "[CV] ................... C=3, epsilon=0.01, gamma=1e-05, total=   0.9s\n",
            "[CV] C=3, epsilon=0.01, gamma=1e-05 ..................................\n",
            "[CV] ................... C=3, epsilon=0.01, gamma=1e-05, total=   0.9s\n",
            "[CV] C=3, epsilon=0.01, gamma=1e-05 ..................................\n",
            "[CV] ................... C=3, epsilon=0.01, gamma=1e-05, total=   0.9s\n",
            "[CV] C=3, epsilon=0.01, gamma=2e-05 ..................................\n",
            "[CV] ................... C=3, epsilon=0.01, gamma=2e-05, total=   1.0s\n",
            "[CV] C=3, epsilon=0.01, gamma=2e-05 ..................................\n",
            "[CV] ................... C=3, epsilon=0.01, gamma=2e-05, total=   1.0s\n",
            "[CV] C=3, epsilon=0.01, gamma=2e-05 ..................................\n",
            "[CV] ................... C=3, epsilon=0.01, gamma=2e-05, total=   1.0s\n",
            "[CV] C=3, epsilon=0.01, gamma=2e-05 ..................................\n",
            "[CV] ................... C=3, epsilon=0.01, gamma=2e-05, total=   1.0s\n",
            "[CV] C=3, epsilon=0.01, gamma=2e-05 ..................................\n",
            "[CV] ................... C=3, epsilon=0.01, gamma=2e-05, total=   1.0s\n",
            "[CV] C=3, epsilon=0.01, gamma=0.0003 .................................\n",
            "[CV] .................. C=3, epsilon=0.01, gamma=0.0003, total=   0.8s\n",
            "[CV] C=3, epsilon=0.01, gamma=0.0003 .................................\n",
            "[CV] .................. C=3, epsilon=0.01, gamma=0.0003, total=   0.8s\n",
            "[CV] C=3, epsilon=0.01, gamma=0.0003 .................................\n",
            "[CV] .................. C=3, epsilon=0.01, gamma=0.0003, total=   0.8s\n",
            "[CV] C=3, epsilon=0.01, gamma=0.0003 .................................\n",
            "[CV] .................. C=3, epsilon=0.01, gamma=0.0003, total=   0.8s\n",
            "[CV] C=3, epsilon=0.01, gamma=0.0003 .................................\n",
            "[CV] .................. C=3, epsilon=0.01, gamma=0.0003, total=   0.8s\n",
            "[CV] C=5, epsilon=0.005, gamma=1e-07 .................................\n",
            "[CV] .................. C=5, epsilon=0.005, gamma=1e-07, total=   0.8s\n",
            "[CV] C=5, epsilon=0.005, gamma=1e-07 .................................\n",
            "[CV] .................. C=5, epsilon=0.005, gamma=1e-07, total=   0.8s\n",
            "[CV] C=5, epsilon=0.005, gamma=1e-07 .................................\n",
            "[CV] .................. C=5, epsilon=0.005, gamma=1e-07, total=   0.8s\n",
            "[CV] C=5, epsilon=0.005, gamma=1e-07 .................................\n",
            "[CV] .................. C=5, epsilon=0.005, gamma=1e-07, total=   0.8s\n",
            "[CV] C=5, epsilon=0.005, gamma=1e-07 .................................\n",
            "[CV] .................. C=5, epsilon=0.005, gamma=1e-07, total=   0.8s\n",
            "[CV] C=5, epsilon=0.005, gamma=1e-06 .................................\n",
            "[CV] .................. C=5, epsilon=0.005, gamma=1e-06, total=   0.9s\n",
            "[CV] C=5, epsilon=0.005, gamma=1e-06 .................................\n",
            "[CV] .................. C=5, epsilon=0.005, gamma=1e-06, total=   0.9s\n",
            "[CV] C=5, epsilon=0.005, gamma=1e-06 .................................\n",
            "[CV] .................. C=5, epsilon=0.005, gamma=1e-06, total=   0.9s\n",
            "[CV] C=5, epsilon=0.005, gamma=1e-06 .................................\n",
            "[CV] .................. C=5, epsilon=0.005, gamma=1e-06, total=   0.9s\n",
            "[CV] C=5, epsilon=0.005, gamma=1e-06 .................................\n",
            "[CV] .................. C=5, epsilon=0.005, gamma=1e-06, total=   0.9s\n",
            "[CV] C=5, epsilon=0.005, gamma=1.5e-06 ...............................\n",
            "[CV] ................ C=5, epsilon=0.005, gamma=1.5e-06, total=   0.9s\n",
            "[CV] C=5, epsilon=0.005, gamma=1.5e-06 ...............................\n",
            "[CV] ................ C=5, epsilon=0.005, gamma=1.5e-06, total=   0.9s\n",
            "[CV] C=5, epsilon=0.005, gamma=1.5e-06 ...............................\n",
            "[CV] ................ C=5, epsilon=0.005, gamma=1.5e-06, total=   0.9s\n",
            "[CV] C=5, epsilon=0.005, gamma=1.5e-06 ...............................\n",
            "[CV] ................ C=5, epsilon=0.005, gamma=1.5e-06, total=   0.9s\n",
            "[CV] C=5, epsilon=0.005, gamma=1.5e-06 ...............................\n",
            "[CV] ................ C=5, epsilon=0.005, gamma=1.5e-06, total=   0.9s\n",
            "[CV] C=5, epsilon=0.005, gamma=2e-06 .................................\n",
            "[CV] .................. C=5, epsilon=0.005, gamma=2e-06, total=   1.0s\n",
            "[CV] C=5, epsilon=0.005, gamma=2e-06 .................................\n",
            "[CV] .................. C=5, epsilon=0.005, gamma=2e-06, total=   1.0s\n",
            "[CV] C=5, epsilon=0.005, gamma=2e-06 .................................\n",
            "[CV] .................. C=5, epsilon=0.005, gamma=2e-06, total=   1.0s\n",
            "[CV] C=5, epsilon=0.005, gamma=2e-06 .................................\n",
            "[CV] .................. C=5, epsilon=0.005, gamma=2e-06, total=   1.0s\n",
            "[CV] C=5, epsilon=0.005, gamma=2e-06 .................................\n",
            "[CV] .................. C=5, epsilon=0.005, gamma=2e-06, total=   1.0s\n",
            "[CV] C=5, epsilon=0.005, gamma=1e-05 .................................\n",
            "[CV] .................. C=5, epsilon=0.005, gamma=1e-05, total=   1.1s\n",
            "[CV] C=5, epsilon=0.005, gamma=1e-05 .................................\n",
            "[CV] .................. C=5, epsilon=0.005, gamma=1e-05, total=   1.1s\n",
            "[CV] C=5, epsilon=0.005, gamma=1e-05 .................................\n",
            "[CV] .................. C=5, epsilon=0.005, gamma=1e-05, total=   1.1s\n",
            "[CV] C=5, epsilon=0.005, gamma=1e-05 .................................\n",
            "[CV] .................. C=5, epsilon=0.005, gamma=1e-05, total=   1.1s\n",
            "[CV] C=5, epsilon=0.005, gamma=1e-05 .................................\n",
            "[CV] .................. C=5, epsilon=0.005, gamma=1e-05, total=   1.1s\n",
            "[CV] C=5, epsilon=0.005, gamma=2e-05 .................................\n",
            "[CV] .................. C=5, epsilon=0.005, gamma=2e-05, total=   1.1s\n",
            "[CV] C=5, epsilon=0.005, gamma=2e-05 .................................\n",
            "[CV] .................. C=5, epsilon=0.005, gamma=2e-05, total=   1.1s\n",
            "[CV] C=5, epsilon=0.005, gamma=2e-05 .................................\n",
            "[CV] .................. C=5, epsilon=0.005, gamma=2e-05, total=   1.1s\n",
            "[CV] C=5, epsilon=0.005, gamma=2e-05 .................................\n",
            "[CV] .................. C=5, epsilon=0.005, gamma=2e-05, total=   1.1s\n",
            "[CV] C=5, epsilon=0.005, gamma=2e-05 .................................\n",
            "[CV] .................. C=5, epsilon=0.005, gamma=2e-05, total=   1.1s\n",
            "[CV] C=5, epsilon=0.005, gamma=0.0003 ................................\n",
            "[CV] ................. C=5, epsilon=0.005, gamma=0.0003, total=   0.8s\n",
            "[CV] C=5, epsilon=0.005, gamma=0.0003 ................................\n",
            "[CV] ................. C=5, epsilon=0.005, gamma=0.0003, total=   0.8s\n",
            "[CV] C=5, epsilon=0.005, gamma=0.0003 ................................\n",
            "[CV] ................. C=5, epsilon=0.005, gamma=0.0003, total=   0.8s\n",
            "[CV] C=5, epsilon=0.005, gamma=0.0003 ................................\n",
            "[CV] ................. C=5, epsilon=0.005, gamma=0.0003, total=   0.8s\n",
            "[CV] C=5, epsilon=0.005, gamma=0.0003 ................................\n",
            "[CV] ................. C=5, epsilon=0.005, gamma=0.0003, total=   0.8s\n",
            "[CV] C=5, epsilon=0.008, gamma=1e-07 .................................\n",
            "[CV] .................. C=5, epsilon=0.008, gamma=1e-07, total=   0.8s\n",
            "[CV] C=5, epsilon=0.008, gamma=1e-07 .................................\n",
            "[CV] .................. C=5, epsilon=0.008, gamma=1e-07, total=   0.7s\n",
            "[CV] C=5, epsilon=0.008, gamma=1e-07 .................................\n",
            "[CV] .................. C=5, epsilon=0.008, gamma=1e-07, total=   0.8s\n",
            "[CV] C=5, epsilon=0.008, gamma=1e-07 .................................\n",
            "[CV] .................. C=5, epsilon=0.008, gamma=1e-07, total=   0.8s\n",
            "[CV] C=5, epsilon=0.008, gamma=1e-07 .................................\n",
            "[CV] .................. C=5, epsilon=0.008, gamma=1e-07, total=   0.8s\n",
            "[CV] C=5, epsilon=0.008, gamma=1e-06 .................................\n",
            "[CV] .................. C=5, epsilon=0.008, gamma=1e-06, total=   0.9s\n",
            "[CV] C=5, epsilon=0.008, gamma=1e-06 .................................\n",
            "[CV] .................. C=5, epsilon=0.008, gamma=1e-06, total=   0.9s\n",
            "[CV] C=5, epsilon=0.008, gamma=1e-06 .................................\n",
            "[CV] .................. C=5, epsilon=0.008, gamma=1e-06, total=   0.9s\n",
            "[CV] C=5, epsilon=0.008, gamma=1e-06 .................................\n",
            "[CV] .................. C=5, epsilon=0.008, gamma=1e-06, total=   0.9s\n",
            "[CV] C=5, epsilon=0.008, gamma=1e-06 .................................\n",
            "[CV] .................. C=5, epsilon=0.008, gamma=1e-06, total=   0.9s\n",
            "[CV] C=5, epsilon=0.008, gamma=1.5e-06 ...............................\n",
            "[CV] ................ C=5, epsilon=0.008, gamma=1.5e-06, total=   0.9s\n",
            "[CV] C=5, epsilon=0.008, gamma=1.5e-06 ...............................\n",
            "[CV] ................ C=5, epsilon=0.008, gamma=1.5e-06, total=   0.9s\n",
            "[CV] C=5, epsilon=0.008, gamma=1.5e-06 ...............................\n",
            "[CV] ................ C=5, epsilon=0.008, gamma=1.5e-06, total=   0.9s\n",
            "[CV] C=5, epsilon=0.008, gamma=1.5e-06 ...............................\n",
            "[CV] ................ C=5, epsilon=0.008, gamma=1.5e-06, total=   0.9s\n",
            "[CV] C=5, epsilon=0.008, gamma=1.5e-06 ...............................\n",
            "[CV] ................ C=5, epsilon=0.008, gamma=1.5e-06, total=   0.9s\n",
            "[CV] C=5, epsilon=0.008, gamma=2e-06 .................................\n",
            "[CV] .................. C=5, epsilon=0.008, gamma=2e-06, total=   1.0s\n",
            "[CV] C=5, epsilon=0.008, gamma=2e-06 .................................\n",
            "[CV] .................. C=5, epsilon=0.008, gamma=2e-06, total=   0.9s\n",
            "[CV] C=5, epsilon=0.008, gamma=2e-06 .................................\n",
            "[CV] .................. C=5, epsilon=0.008, gamma=2e-06, total=   0.9s\n",
            "[CV] C=5, epsilon=0.008, gamma=2e-06 .................................\n",
            "[CV] .................. C=5, epsilon=0.008, gamma=2e-06, total=   1.0s\n",
            "[CV] C=5, epsilon=0.008, gamma=2e-06 .................................\n",
            "[CV] .................. C=5, epsilon=0.008, gamma=2e-06, total=   1.0s\n",
            "[CV] C=5, epsilon=0.008, gamma=1e-05 .................................\n",
            "[CV] .................. C=5, epsilon=0.008, gamma=1e-05, total=   1.1s\n",
            "[CV] C=5, epsilon=0.008, gamma=1e-05 .................................\n",
            "[CV] .................. C=5, epsilon=0.008, gamma=1e-05, total=   1.0s\n",
            "[CV] C=5, epsilon=0.008, gamma=1e-05 .................................\n",
            "[CV] .................. C=5, epsilon=0.008, gamma=1e-05, total=   1.1s\n",
            "[CV] C=5, epsilon=0.008, gamma=1e-05 .................................\n",
            "[CV] .................. C=5, epsilon=0.008, gamma=1e-05, total=   1.1s\n",
            "[CV] C=5, epsilon=0.008, gamma=1e-05 .................................\n",
            "[CV] .................. C=5, epsilon=0.008, gamma=1e-05, total=   1.1s\n",
            "[CV] C=5, epsilon=0.008, gamma=2e-05 .................................\n",
            "[CV] .................. C=5, epsilon=0.008, gamma=2e-05, total=   1.1s\n",
            "[CV] C=5, epsilon=0.008, gamma=2e-05 .................................\n",
            "[CV] .................. C=5, epsilon=0.008, gamma=2e-05, total=   1.1s\n",
            "[CV] C=5, epsilon=0.008, gamma=2e-05 .................................\n",
            "[CV] .................. C=5, epsilon=0.008, gamma=2e-05, total=   1.1s\n",
            "[CV] C=5, epsilon=0.008, gamma=2e-05 .................................\n",
            "[CV] .................. C=5, epsilon=0.008, gamma=2e-05, total=   1.1s\n",
            "[CV] C=5, epsilon=0.008, gamma=2e-05 .................................\n",
            "[CV] .................. C=5, epsilon=0.008, gamma=2e-05, total=   1.1s\n",
            "[CV] C=5, epsilon=0.008, gamma=0.0003 ................................\n",
            "[CV] ................. C=5, epsilon=0.008, gamma=0.0003, total=   0.8s\n",
            "[CV] C=5, epsilon=0.008, gamma=0.0003 ................................\n",
            "[CV] ................. C=5, epsilon=0.008, gamma=0.0003, total=   0.8s\n",
            "[CV] C=5, epsilon=0.008, gamma=0.0003 ................................\n",
            "[CV] ................. C=5, epsilon=0.008, gamma=0.0003, total=   0.8s\n",
            "[CV] C=5, epsilon=0.008, gamma=0.0003 ................................\n",
            "[CV] ................. C=5, epsilon=0.008, gamma=0.0003, total=   0.8s\n",
            "[CV] C=5, epsilon=0.008, gamma=0.0003 ................................\n",
            "[CV] ................. C=5, epsilon=0.008, gamma=0.0003, total=   0.8s\n",
            "[CV] C=5, epsilon=0.01, gamma=1e-07 ..................................\n",
            "[CV] ................... C=5, epsilon=0.01, gamma=1e-07, total=   0.8s\n",
            "[CV] C=5, epsilon=0.01, gamma=1e-07 ..................................\n",
            "[CV] ................... C=5, epsilon=0.01, gamma=1e-07, total=   0.8s\n",
            "[CV] C=5, epsilon=0.01, gamma=1e-07 ..................................\n",
            "[CV] ................... C=5, epsilon=0.01, gamma=1e-07, total=   0.8s\n",
            "[CV] C=5, epsilon=0.01, gamma=1e-07 ..................................\n",
            "[CV] ................... C=5, epsilon=0.01, gamma=1e-07, total=   0.7s\n",
            "[CV] C=5, epsilon=0.01, gamma=1e-07 ..................................\n",
            "[CV] ................... C=5, epsilon=0.01, gamma=1e-07, total=   0.8s\n",
            "[CV] C=5, epsilon=0.01, gamma=1e-06 ..................................\n",
            "[CV] ................... C=5, epsilon=0.01, gamma=1e-06, total=   0.9s\n",
            "[CV] C=5, epsilon=0.01, gamma=1e-06 ..................................\n",
            "[CV] ................... C=5, epsilon=0.01, gamma=1e-06, total=   0.9s\n",
            "[CV] C=5, epsilon=0.01, gamma=1e-06 ..................................\n",
            "[CV] ................... C=5, epsilon=0.01, gamma=1e-06, total=   0.9s\n",
            "[CV] C=5, epsilon=0.01, gamma=1e-06 ..................................\n",
            "[CV] ................... C=5, epsilon=0.01, gamma=1e-06, total=   0.9s\n",
            "[CV] C=5, epsilon=0.01, gamma=1e-06 ..................................\n",
            "[CV] ................... C=5, epsilon=0.01, gamma=1e-06, total=   0.9s\n",
            "[CV] C=5, epsilon=0.01, gamma=1.5e-06 ................................\n",
            "[CV] ................. C=5, epsilon=0.01, gamma=1.5e-06, total=   0.9s\n",
            "[CV] C=5, epsilon=0.01, gamma=1.5e-06 ................................\n",
            "[CV] ................. C=5, epsilon=0.01, gamma=1.5e-06, total=   0.9s\n",
            "[CV] C=5, epsilon=0.01, gamma=1.5e-06 ................................\n",
            "[CV] ................. C=5, epsilon=0.01, gamma=1.5e-06, total=   0.9s\n",
            "[CV] C=5, epsilon=0.01, gamma=1.5e-06 ................................\n",
            "[CV] ................. C=5, epsilon=0.01, gamma=1.5e-06, total=   0.9s\n",
            "[CV] C=5, epsilon=0.01, gamma=1.5e-06 ................................\n",
            "[CV] ................. C=5, epsilon=0.01, gamma=1.5e-06, total=   0.9s\n",
            "[CV] C=5, epsilon=0.01, gamma=2e-06 ..................................\n",
            "[CV] ................... C=5, epsilon=0.01, gamma=2e-06, total=   0.9s\n",
            "[CV] C=5, epsilon=0.01, gamma=2e-06 ..................................\n",
            "[CV] ................... C=5, epsilon=0.01, gamma=2e-06, total=   0.9s\n",
            "[CV] C=5, epsilon=0.01, gamma=2e-06 ..................................\n",
            "[CV] ................... C=5, epsilon=0.01, gamma=2e-06, total=   0.9s\n",
            "[CV] C=5, epsilon=0.01, gamma=2e-06 ..................................\n",
            "[CV] ................... C=5, epsilon=0.01, gamma=2e-06, total=   0.9s\n",
            "[CV] C=5, epsilon=0.01, gamma=2e-06 ..................................\n",
            "[CV] ................... C=5, epsilon=0.01, gamma=2e-06, total=   1.0s\n",
            "[CV] C=5, epsilon=0.01, gamma=1e-05 ..................................\n",
            "[CV] ................... C=5, epsilon=0.01, gamma=1e-05, total=   1.0s\n",
            "[CV] C=5, epsilon=0.01, gamma=1e-05 ..................................\n",
            "[CV] ................... C=5, epsilon=0.01, gamma=1e-05, total=   1.0s\n",
            "[CV] C=5, epsilon=0.01, gamma=1e-05 ..................................\n",
            "[CV] ................... C=5, epsilon=0.01, gamma=1e-05, total=   1.0s\n",
            "[CV] C=5, epsilon=0.01, gamma=1e-05 ..................................\n",
            "[CV] ................... C=5, epsilon=0.01, gamma=1e-05, total=   1.1s\n",
            "[CV] C=5, epsilon=0.01, gamma=1e-05 ..................................\n",
            "[CV] ................... C=5, epsilon=0.01, gamma=1e-05, total=   1.0s\n",
            "[CV] C=5, epsilon=0.01, gamma=2e-05 ..................................\n",
            "[CV] ................... C=5, epsilon=0.01, gamma=2e-05, total=   1.1s\n",
            "[CV] C=5, epsilon=0.01, gamma=2e-05 ..................................\n",
            "[CV] ................... C=5, epsilon=0.01, gamma=2e-05, total=   1.1s\n",
            "[CV] C=5, epsilon=0.01, gamma=2e-05 ..................................\n",
            "[CV] ................... C=5, epsilon=0.01, gamma=2e-05, total=   1.1s\n",
            "[CV] C=5, epsilon=0.01, gamma=2e-05 ..................................\n",
            "[CV] ................... C=5, epsilon=0.01, gamma=2e-05, total=   1.1s\n",
            "[CV] C=5, epsilon=0.01, gamma=2e-05 ..................................\n",
            "[CV] ................... C=5, epsilon=0.01, gamma=2e-05, total=   1.1s\n",
            "[CV] C=5, epsilon=0.01, gamma=0.0003 .................................\n",
            "[CV] .................. C=5, epsilon=0.01, gamma=0.0003, total=   0.8s\n",
            "[CV] C=5, epsilon=0.01, gamma=0.0003 .................................\n",
            "[CV] .................. C=5, epsilon=0.01, gamma=0.0003, total=   0.8s\n",
            "[CV] C=5, epsilon=0.01, gamma=0.0003 .................................\n",
            "[CV] .................. C=5, epsilon=0.01, gamma=0.0003, total=   0.8s\n",
            "[CV] C=5, epsilon=0.01, gamma=0.0003 .................................\n",
            "[CV] .................. C=5, epsilon=0.01, gamma=0.0003, total=   0.8s\n",
            "[CV] C=5, epsilon=0.01, gamma=0.0003 .................................\n",
            "[CV] .................. C=5, epsilon=0.01, gamma=0.0003, total=   0.8s\n",
            "[CV] C=10, epsilon=0.005, gamma=1e-07 ................................\n",
            "[CV] ................. C=10, epsilon=0.005, gamma=1e-07, total=   0.8s\n",
            "[CV] C=10, epsilon=0.005, gamma=1e-07 ................................\n",
            "[CV] ................. C=10, epsilon=0.005, gamma=1e-07, total=   0.8s\n",
            "[CV] C=10, epsilon=0.005, gamma=1e-07 ................................\n",
            "[CV] ................. C=10, epsilon=0.005, gamma=1e-07, total=   0.8s\n",
            "[CV] C=10, epsilon=0.005, gamma=1e-07 ................................\n",
            "[CV] ................. C=10, epsilon=0.005, gamma=1e-07, total=   0.8s\n",
            "[CV] C=10, epsilon=0.005, gamma=1e-07 ................................\n",
            "[CV] ................. C=10, epsilon=0.005, gamma=1e-07, total=   0.8s\n",
            "[CV] C=10, epsilon=0.005, gamma=1e-06 ................................\n",
            "[CV] ................. C=10, epsilon=0.005, gamma=1e-06, total=   1.0s\n",
            "[CV] C=10, epsilon=0.005, gamma=1e-06 ................................\n",
            "[CV] ................. C=10, epsilon=0.005, gamma=1e-06, total=   1.0s\n",
            "[CV] C=10, epsilon=0.005, gamma=1e-06 ................................\n",
            "[CV] ................. C=10, epsilon=0.005, gamma=1e-06, total=   1.0s\n",
            "[CV] C=10, epsilon=0.005, gamma=1e-06 ................................\n",
            "[CV] ................. C=10, epsilon=0.005, gamma=1e-06, total=   1.0s\n",
            "[CV] C=10, epsilon=0.005, gamma=1e-06 ................................\n",
            "[CV] ................. C=10, epsilon=0.005, gamma=1e-06, total=   1.1s\n",
            "[CV] C=10, epsilon=0.005, gamma=1.5e-06 ..............................\n",
            "[CV] ............... C=10, epsilon=0.005, gamma=1.5e-06, total=   1.1s\n",
            "[CV] C=10, epsilon=0.005, gamma=1.5e-06 ..............................\n",
            "[CV] ............... C=10, epsilon=0.005, gamma=1.5e-06, total=   1.1s\n",
            "[CV] C=10, epsilon=0.005, gamma=1.5e-06 ..............................\n",
            "[CV] ............... C=10, epsilon=0.005, gamma=1.5e-06, total=   1.1s\n",
            "[CV] C=10, epsilon=0.005, gamma=1.5e-06 ..............................\n",
            "[CV] ............... C=10, epsilon=0.005, gamma=1.5e-06, total=   1.1s\n",
            "[CV] C=10, epsilon=0.005, gamma=1.5e-06 ..............................\n",
            "[CV] ............... C=10, epsilon=0.005, gamma=1.5e-06, total=   1.1s\n",
            "[CV] C=10, epsilon=0.005, gamma=2e-06 ................................\n",
            "[CV] ................. C=10, epsilon=0.005, gamma=2e-06, total=   1.2s\n",
            "[CV] C=10, epsilon=0.005, gamma=2e-06 ................................\n",
            "[CV] ................. C=10, epsilon=0.005, gamma=2e-06, total=   1.1s\n",
            "[CV] C=10, epsilon=0.005, gamma=2e-06 ................................\n",
            "[CV] ................. C=10, epsilon=0.005, gamma=2e-06, total=   1.2s\n",
            "[CV] C=10, epsilon=0.005, gamma=2e-06 ................................\n",
            "[CV] ................. C=10, epsilon=0.005, gamma=2e-06, total=   1.2s\n",
            "[CV] C=10, epsilon=0.005, gamma=2e-06 ................................\n",
            "[CV] ................. C=10, epsilon=0.005, gamma=2e-06, total=   1.2s\n",
            "[CV] C=10, epsilon=0.005, gamma=1e-05 ................................\n",
            "[CV] ................. C=10, epsilon=0.005, gamma=1e-05, total=   1.3s\n",
            "[CV] C=10, epsilon=0.005, gamma=1e-05 ................................\n",
            "[CV] ................. C=10, epsilon=0.005, gamma=1e-05, total=   1.3s\n",
            "[CV] C=10, epsilon=0.005, gamma=1e-05 ................................\n",
            "[CV] ................. C=10, epsilon=0.005, gamma=1e-05, total=   1.3s\n",
            "[CV] C=10, epsilon=0.005, gamma=1e-05 ................................\n",
            "[CV] ................. C=10, epsilon=0.005, gamma=1e-05, total=   1.3s\n",
            "[CV] C=10, epsilon=0.005, gamma=1e-05 ................................\n",
            "[CV] ................. C=10, epsilon=0.005, gamma=1e-05, total=   1.3s\n",
            "[CV] C=10, epsilon=0.005, gamma=2e-05 ................................\n",
            "[CV] ................. C=10, epsilon=0.005, gamma=2e-05, total=   1.2s\n",
            "[CV] C=10, epsilon=0.005, gamma=2e-05 ................................\n",
            "[CV] ................. C=10, epsilon=0.005, gamma=2e-05, total=   1.3s\n",
            "[CV] C=10, epsilon=0.005, gamma=2e-05 ................................\n",
            "[CV] ................. C=10, epsilon=0.005, gamma=2e-05, total=   1.2s\n",
            "[CV] C=10, epsilon=0.005, gamma=2e-05 ................................\n",
            "[CV] ................. C=10, epsilon=0.005, gamma=2e-05, total=   1.2s\n",
            "[CV] C=10, epsilon=0.005, gamma=2e-05 ................................\n",
            "[CV] ................. C=10, epsilon=0.005, gamma=2e-05, total=   1.2s\n",
            "[CV] C=10, epsilon=0.005, gamma=0.0003 ...............................\n",
            "[CV] ................ C=10, epsilon=0.005, gamma=0.0003, total=   0.8s\n",
            "[CV] C=10, epsilon=0.005, gamma=0.0003 ...............................\n",
            "[CV] ................ C=10, epsilon=0.005, gamma=0.0003, total=   0.8s\n",
            "[CV] C=10, epsilon=0.005, gamma=0.0003 ...............................\n",
            "[CV] ................ C=10, epsilon=0.005, gamma=0.0003, total=   0.8s\n",
            "[CV] C=10, epsilon=0.005, gamma=0.0003 ...............................\n",
            "[CV] ................ C=10, epsilon=0.005, gamma=0.0003, total=   0.8s\n",
            "[CV] C=10, epsilon=0.005, gamma=0.0003 ...............................\n",
            "[CV] ................ C=10, epsilon=0.005, gamma=0.0003, total=   0.8s\n",
            "[CV] C=10, epsilon=0.008, gamma=1e-07 ................................\n",
            "[CV] ................. C=10, epsilon=0.008, gamma=1e-07, total=   0.8s\n",
            "[CV] C=10, epsilon=0.008, gamma=1e-07 ................................\n",
            "[CV] ................. C=10, epsilon=0.008, gamma=1e-07, total=   0.8s\n",
            "[CV] C=10, epsilon=0.008, gamma=1e-07 ................................\n",
            "[CV] ................. C=10, epsilon=0.008, gamma=1e-07, total=   0.8s\n",
            "[CV] C=10, epsilon=0.008, gamma=1e-07 ................................\n",
            "[CV] ................. C=10, epsilon=0.008, gamma=1e-07, total=   0.8s\n",
            "[CV] C=10, epsilon=0.008, gamma=1e-07 ................................\n",
            "[CV] ................. C=10, epsilon=0.008, gamma=1e-07, total=   0.8s\n",
            "[CV] C=10, epsilon=0.008, gamma=1e-06 ................................\n",
            "[CV] ................. C=10, epsilon=0.008, gamma=1e-06, total=   1.0s\n",
            "[CV] C=10, epsilon=0.008, gamma=1e-06 ................................\n",
            "[CV] ................. C=10, epsilon=0.008, gamma=1e-06, total=   1.0s\n",
            "[CV] C=10, epsilon=0.008, gamma=1e-06 ................................\n",
            "[CV] ................. C=10, epsilon=0.008, gamma=1e-06, total=   1.0s\n",
            "[CV] C=10, epsilon=0.008, gamma=1e-06 ................................\n",
            "[CV] ................. C=10, epsilon=0.008, gamma=1e-06, total=   1.0s\n",
            "[CV] C=10, epsilon=0.008, gamma=1e-06 ................................\n",
            "[CV] ................. C=10, epsilon=0.008, gamma=1e-06, total=   1.0s\n",
            "[CV] C=10, epsilon=0.008, gamma=1.5e-06 ..............................\n",
            "[CV] ............... C=10, epsilon=0.008, gamma=1.5e-06, total=   1.1s\n",
            "[CV] C=10, epsilon=0.008, gamma=1.5e-06 ..............................\n",
            "[CV] ............... C=10, epsilon=0.008, gamma=1.5e-06, total=   1.1s\n",
            "[CV] C=10, epsilon=0.008, gamma=1.5e-06 ..............................\n",
            "[CV] ............... C=10, epsilon=0.008, gamma=1.5e-06, total=   1.1s\n",
            "[CV] C=10, epsilon=0.008, gamma=1.5e-06 ..............................\n",
            "[CV] ............... C=10, epsilon=0.008, gamma=1.5e-06, total=   1.1s\n",
            "[CV] C=10, epsilon=0.008, gamma=1.5e-06 ..............................\n",
            "[CV] ............... C=10, epsilon=0.008, gamma=1.5e-06, total=   1.1s\n",
            "[CV] C=10, epsilon=0.008, gamma=2e-06 ................................\n",
            "[CV] ................. C=10, epsilon=0.008, gamma=2e-06, total=   1.1s\n",
            "[CV] C=10, epsilon=0.008, gamma=2e-06 ................................\n",
            "[CV] ................. C=10, epsilon=0.008, gamma=2e-06, total=   1.1s\n",
            "[CV] C=10, epsilon=0.008, gamma=2e-06 ................................\n",
            "[CV] ................. C=10, epsilon=0.008, gamma=2e-06, total=   1.1s\n",
            "[CV] C=10, epsilon=0.008, gamma=2e-06 ................................\n",
            "[CV] ................. C=10, epsilon=0.008, gamma=2e-06, total=   1.1s\n",
            "[CV] C=10, epsilon=0.008, gamma=2e-06 ................................\n",
            "[CV] ................. C=10, epsilon=0.008, gamma=2e-06, total=   1.1s\n",
            "[CV] C=10, epsilon=0.008, gamma=1e-05 ................................\n",
            "[CV] ................. C=10, epsilon=0.008, gamma=1e-05, total=   1.2s\n",
            "[CV] C=10, epsilon=0.008, gamma=1e-05 ................................\n",
            "[CV] ................. C=10, epsilon=0.008, gamma=1e-05, total=   1.3s\n",
            "[CV] C=10, epsilon=0.008, gamma=1e-05 ................................\n",
            "[CV] ................. C=10, epsilon=0.008, gamma=1e-05, total=   1.3s\n",
            "[CV] C=10, epsilon=0.008, gamma=1e-05 ................................\n",
            "[CV] ................. C=10, epsilon=0.008, gamma=1e-05, total=   1.3s\n",
            "[CV] C=10, epsilon=0.008, gamma=1e-05 ................................\n",
            "[CV] ................. C=10, epsilon=0.008, gamma=1e-05, total=   1.3s\n",
            "[CV] C=10, epsilon=0.008, gamma=2e-05 ................................\n",
            "[CV] ................. C=10, epsilon=0.008, gamma=2e-05, total=   1.2s\n",
            "[CV] C=10, epsilon=0.008, gamma=2e-05 ................................\n",
            "[CV] ................. C=10, epsilon=0.008, gamma=2e-05, total=   1.2s\n",
            "[CV] C=10, epsilon=0.008, gamma=2e-05 ................................\n",
            "[CV] ................. C=10, epsilon=0.008, gamma=2e-05, total=   1.2s\n",
            "[CV] C=10, epsilon=0.008, gamma=2e-05 ................................\n",
            "[CV] ................. C=10, epsilon=0.008, gamma=2e-05, total=   1.2s\n",
            "[CV] C=10, epsilon=0.008, gamma=2e-05 ................................\n",
            "[CV] ................. C=10, epsilon=0.008, gamma=2e-05, total=   1.2s\n",
            "[CV] C=10, epsilon=0.008, gamma=0.0003 ...............................\n",
            "[CV] ................ C=10, epsilon=0.008, gamma=0.0003, total=   0.8s\n",
            "[CV] C=10, epsilon=0.008, gamma=0.0003 ...............................\n",
            "[CV] ................ C=10, epsilon=0.008, gamma=0.0003, total=   0.8s\n",
            "[CV] C=10, epsilon=0.008, gamma=0.0003 ...............................\n",
            "[CV] ................ C=10, epsilon=0.008, gamma=0.0003, total=   0.8s\n",
            "[CV] C=10, epsilon=0.008, gamma=0.0003 ...............................\n",
            "[CV] ................ C=10, epsilon=0.008, gamma=0.0003, total=   0.8s\n",
            "[CV] C=10, epsilon=0.008, gamma=0.0003 ...............................\n",
            "[CV] ................ C=10, epsilon=0.008, gamma=0.0003, total=   0.8s\n",
            "[CV] C=10, epsilon=0.01, gamma=1e-07 .................................\n",
            "[CV] .................. C=10, epsilon=0.01, gamma=1e-07, total=   0.8s\n",
            "[CV] C=10, epsilon=0.01, gamma=1e-07 .................................\n",
            "[CV] .................. C=10, epsilon=0.01, gamma=1e-07, total=   0.8s\n",
            "[CV] C=10, epsilon=0.01, gamma=1e-07 .................................\n",
            "[CV] .................. C=10, epsilon=0.01, gamma=1e-07, total=   0.8s\n",
            "[CV] C=10, epsilon=0.01, gamma=1e-07 .................................\n",
            "[CV] .................. C=10, epsilon=0.01, gamma=1e-07, total=   0.8s\n",
            "[CV] C=10, epsilon=0.01, gamma=1e-07 .................................\n",
            "[CV] .................. C=10, epsilon=0.01, gamma=1e-07, total=   0.8s\n",
            "[CV] C=10, epsilon=0.01, gamma=1e-06 .................................\n",
            "[CV] .................. C=10, epsilon=0.01, gamma=1e-06, total=   1.0s\n",
            "[CV] C=10, epsilon=0.01, gamma=1e-06 .................................\n",
            "[CV] .................. C=10, epsilon=0.01, gamma=1e-06, total=   1.0s\n",
            "[CV] C=10, epsilon=0.01, gamma=1e-06 .................................\n",
            "[CV] .................. C=10, epsilon=0.01, gamma=1e-06, total=   1.0s\n",
            "[CV] C=10, epsilon=0.01, gamma=1e-06 .................................\n",
            "[CV] .................. C=10, epsilon=0.01, gamma=1e-06, total=   1.0s\n",
            "[CV] C=10, epsilon=0.01, gamma=1e-06 .................................\n",
            "[CV] .................. C=10, epsilon=0.01, gamma=1e-06, total=   1.0s\n",
            "[CV] C=10, epsilon=0.01, gamma=1.5e-06 ...............................\n",
            "[CV] ................ C=10, epsilon=0.01, gamma=1.5e-06, total=   1.1s\n",
            "[CV] C=10, epsilon=0.01, gamma=1.5e-06 ...............................\n",
            "[CV] ................ C=10, epsilon=0.01, gamma=1.5e-06, total=   1.1s\n",
            "[CV] C=10, epsilon=0.01, gamma=1.5e-06 ...............................\n",
            "[CV] ................ C=10, epsilon=0.01, gamma=1.5e-06, total=   1.1s\n",
            "[CV] C=10, epsilon=0.01, gamma=1.5e-06 ...............................\n",
            "[CV] ................ C=10, epsilon=0.01, gamma=1.5e-06, total=   1.1s\n",
            "[CV] C=10, epsilon=0.01, gamma=1.5e-06 ...............................\n",
            "[CV] ................ C=10, epsilon=0.01, gamma=1.5e-06, total=   1.1s\n",
            "[CV] C=10, epsilon=0.01, gamma=2e-06 .................................\n",
            "[CV] .................. C=10, epsilon=0.01, gamma=2e-06, total=   1.1s\n",
            "[CV] C=10, epsilon=0.01, gamma=2e-06 .................................\n",
            "[CV] .................. C=10, epsilon=0.01, gamma=2e-06, total=   1.1s\n",
            "[CV] C=10, epsilon=0.01, gamma=2e-06 .................................\n",
            "[CV] .................. C=10, epsilon=0.01, gamma=2e-06, total=   1.1s\n",
            "[CV] C=10, epsilon=0.01, gamma=2e-06 .................................\n",
            "[CV] .................. C=10, epsilon=0.01, gamma=2e-06, total=   1.1s\n",
            "[CV] C=10, epsilon=0.01, gamma=2e-06 .................................\n",
            "[CV] .................. C=10, epsilon=0.01, gamma=2e-06, total=   1.1s\n",
            "[CV] C=10, epsilon=0.01, gamma=1e-05 .................................\n",
            "[CV] .................. C=10, epsilon=0.01, gamma=1e-05, total=   1.2s\n",
            "[CV] C=10, epsilon=0.01, gamma=1e-05 .................................\n",
            "[CV] .................. C=10, epsilon=0.01, gamma=1e-05, total=   1.3s\n",
            "[CV] C=10, epsilon=0.01, gamma=1e-05 .................................\n",
            "[CV] .................. C=10, epsilon=0.01, gamma=1e-05, total=   1.2s\n",
            "[CV] C=10, epsilon=0.01, gamma=1e-05 .................................\n",
            "[CV] .................. C=10, epsilon=0.01, gamma=1e-05, total=   1.2s\n",
            "[CV] C=10, epsilon=0.01, gamma=1e-05 .................................\n",
            "[CV] .................. C=10, epsilon=0.01, gamma=1e-05, total=   1.3s\n",
            "[CV] C=10, epsilon=0.01, gamma=2e-05 .................................\n",
            "[CV] .................. C=10, epsilon=0.01, gamma=2e-05, total=   1.1s\n",
            "[CV] C=10, epsilon=0.01, gamma=2e-05 .................................\n",
            "[CV] .................. C=10, epsilon=0.01, gamma=2e-05, total=   1.2s\n",
            "[CV] C=10, epsilon=0.01, gamma=2e-05 .................................\n",
            "[CV] .................. C=10, epsilon=0.01, gamma=2e-05, total=   1.1s\n",
            "[CV] C=10, epsilon=0.01, gamma=2e-05 .................................\n",
            "[CV] .................. C=10, epsilon=0.01, gamma=2e-05, total=   1.2s\n",
            "[CV] C=10, epsilon=0.01, gamma=2e-05 .................................\n",
            "[CV] .................. C=10, epsilon=0.01, gamma=2e-05, total=   1.2s\n",
            "[CV] C=10, epsilon=0.01, gamma=0.0003 ................................\n",
            "[CV] ................. C=10, epsilon=0.01, gamma=0.0003, total=   0.8s\n",
            "[CV] C=10, epsilon=0.01, gamma=0.0003 ................................\n",
            "[CV] ................. C=10, epsilon=0.01, gamma=0.0003, total=   0.8s\n",
            "[CV] C=10, epsilon=0.01, gamma=0.0003 ................................\n",
            "[CV] ................. C=10, epsilon=0.01, gamma=0.0003, total=   0.8s\n",
            "[CV] C=10, epsilon=0.01, gamma=0.0003 ................................\n",
            "[CV] ................. C=10, epsilon=0.01, gamma=0.0003, total=   0.8s\n",
            "[CV] C=10, epsilon=0.01, gamma=0.0003 ................................\n",
            "[CV] ................. C=10, epsilon=0.01, gamma=0.0003, total=   0.8s\n",
            "[CV] C=20, epsilon=0.005, gamma=1e-07 ................................\n",
            "[CV] ................. C=20, epsilon=0.005, gamma=1e-07, total=   0.9s\n",
            "[CV] C=20, epsilon=0.005, gamma=1e-07 ................................\n",
            "[CV] ................. C=20, epsilon=0.005, gamma=1e-07, total=   0.8s\n",
            "[CV] C=20, epsilon=0.005, gamma=1e-07 ................................\n",
            "[CV] ................. C=20, epsilon=0.005, gamma=1e-07, total=   0.9s\n",
            "[CV] C=20, epsilon=0.005, gamma=1e-07 ................................\n",
            "[CV] ................. C=20, epsilon=0.005, gamma=1e-07, total=   0.9s\n",
            "[CV] C=20, epsilon=0.005, gamma=1e-07 ................................\n",
            "[CV] ................. C=20, epsilon=0.005, gamma=1e-07, total=   0.9s\n",
            "[CV] C=20, epsilon=0.005, gamma=1e-06 ................................\n",
            "[CV] ................. C=20, epsilon=0.005, gamma=1e-06, total=   1.3s\n",
            "[CV] C=20, epsilon=0.005, gamma=1e-06 ................................\n",
            "[CV] ................. C=20, epsilon=0.005, gamma=1e-06, total=   1.3s\n",
            "[CV] C=20, epsilon=0.005, gamma=1e-06 ................................\n",
            "[CV] ................. C=20, epsilon=0.005, gamma=1e-06, total=   1.3s\n",
            "[CV] C=20, epsilon=0.005, gamma=1e-06 ................................\n",
            "[CV] ................. C=20, epsilon=0.005, gamma=1e-06, total=   1.2s\n",
            "[CV] C=20, epsilon=0.005, gamma=1e-06 ................................\n",
            "[CV] ................. C=20, epsilon=0.005, gamma=1e-06, total=   1.3s\n",
            "[CV] C=20, epsilon=0.005, gamma=1.5e-06 ..............................\n",
            "[CV] ............... C=20, epsilon=0.005, gamma=1.5e-06, total=   1.4s\n",
            "[CV] C=20, epsilon=0.005, gamma=1.5e-06 ..............................\n",
            "[CV] ............... C=20, epsilon=0.005, gamma=1.5e-06, total=   1.4s\n",
            "[CV] C=20, epsilon=0.005, gamma=1.5e-06 ..............................\n",
            "[CV] ............... C=20, epsilon=0.005, gamma=1.5e-06, total=   1.4s\n",
            "[CV] C=20, epsilon=0.005, gamma=1.5e-06 ..............................\n",
            "[CV] ............... C=20, epsilon=0.005, gamma=1.5e-06, total=   1.4s\n",
            "[CV] C=20, epsilon=0.005, gamma=1.5e-06 ..............................\n",
            "[CV] ............... C=20, epsilon=0.005, gamma=1.5e-06, total=   1.4s\n",
            "[CV] C=20, epsilon=0.005, gamma=2e-06 ................................\n",
            "[CV] ................. C=20, epsilon=0.005, gamma=2e-06, total=   1.5s\n",
            "[CV] C=20, epsilon=0.005, gamma=2e-06 ................................\n",
            "[CV] ................. C=20, epsilon=0.005, gamma=2e-06, total=   1.5s\n",
            "[CV] C=20, epsilon=0.005, gamma=2e-06 ................................\n",
            "[CV] ................. C=20, epsilon=0.005, gamma=2e-06, total=   1.5s\n",
            "[CV] C=20, epsilon=0.005, gamma=2e-06 ................................\n",
            "[CV] ................. C=20, epsilon=0.005, gamma=2e-06, total=   1.5s\n",
            "[CV] C=20, epsilon=0.005, gamma=2e-06 ................................\n",
            "[CV] ................. C=20, epsilon=0.005, gamma=2e-06, total=   1.5s\n",
            "[CV] C=20, epsilon=0.005, gamma=1e-05 ................................\n",
            "[CV] ................. C=20, epsilon=0.005, gamma=1e-05, total=   1.6s\n",
            "[CV] C=20, epsilon=0.005, gamma=1e-05 ................................\n",
            "[CV] ................. C=20, epsilon=0.005, gamma=1e-05, total=   1.6s\n",
            "[CV] C=20, epsilon=0.005, gamma=1e-05 ................................\n",
            "[CV] ................. C=20, epsilon=0.005, gamma=1e-05, total=   1.6s\n",
            "[CV] C=20, epsilon=0.005, gamma=1e-05 ................................\n",
            "[CV] ................. C=20, epsilon=0.005, gamma=1e-05, total=   1.5s\n",
            "[CV] C=20, epsilon=0.005, gamma=1e-05 ................................\n",
            "[CV] ................. C=20, epsilon=0.005, gamma=1e-05, total=   1.6s\n",
            "[CV] C=20, epsilon=0.005, gamma=2e-05 ................................\n",
            "[CV] ................. C=20, epsilon=0.005, gamma=2e-05, total=   1.3s\n",
            "[CV] C=20, epsilon=0.005, gamma=2e-05 ................................\n",
            "[CV] ................. C=20, epsilon=0.005, gamma=2e-05, total=   1.4s\n",
            "[CV] C=20, epsilon=0.005, gamma=2e-05 ................................\n",
            "[CV] ................. C=20, epsilon=0.005, gamma=2e-05, total=   1.3s\n",
            "[CV] C=20, epsilon=0.005, gamma=2e-05 ................................\n",
            "[CV] ................. C=20, epsilon=0.005, gamma=2e-05, total=   1.4s\n",
            "[CV] C=20, epsilon=0.005, gamma=2e-05 ................................\n",
            "[CV] ................. C=20, epsilon=0.005, gamma=2e-05, total=   1.4s\n",
            "[CV] C=20, epsilon=0.005, gamma=0.0003 ...............................\n",
            "[CV] ................ C=20, epsilon=0.005, gamma=0.0003, total=   0.8s\n",
            "[CV] C=20, epsilon=0.005, gamma=0.0003 ...............................\n",
            "[CV] ................ C=20, epsilon=0.005, gamma=0.0003, total=   0.8s\n",
            "[CV] C=20, epsilon=0.005, gamma=0.0003 ...............................\n",
            "[CV] ................ C=20, epsilon=0.005, gamma=0.0003, total=   0.8s\n",
            "[CV] C=20, epsilon=0.005, gamma=0.0003 ...............................\n",
            "[CV] ................ C=20, epsilon=0.005, gamma=0.0003, total=   0.8s\n",
            "[CV] C=20, epsilon=0.005, gamma=0.0003 ...............................\n",
            "[CV] ................ C=20, epsilon=0.005, gamma=0.0003, total=   0.8s\n",
            "[CV] C=20, epsilon=0.008, gamma=1e-07 ................................\n",
            "[CV] ................. C=20, epsilon=0.008, gamma=1e-07, total=   0.9s\n",
            "[CV] C=20, epsilon=0.008, gamma=1e-07 ................................\n",
            "[CV] ................. C=20, epsilon=0.008, gamma=1e-07, total=   0.8s\n",
            "[CV] C=20, epsilon=0.008, gamma=1e-07 ................................\n",
            "[CV] ................. C=20, epsilon=0.008, gamma=1e-07, total=   0.9s\n",
            "[CV] C=20, epsilon=0.008, gamma=1e-07 ................................\n",
            "[CV] ................. C=20, epsilon=0.008, gamma=1e-07, total=   0.8s\n",
            "[CV] C=20, epsilon=0.008, gamma=1e-07 ................................\n",
            "[CV] ................. C=20, epsilon=0.008, gamma=1e-07, total=   0.8s\n",
            "[CV] C=20, epsilon=0.008, gamma=1e-06 ................................\n",
            "[CV] ................. C=20, epsilon=0.008, gamma=1e-06, total=   1.2s\n",
            "[CV] C=20, epsilon=0.008, gamma=1e-06 ................................\n",
            "[CV] ................. C=20, epsilon=0.008, gamma=1e-06, total=   1.2s\n",
            "[CV] C=20, epsilon=0.008, gamma=1e-06 ................................\n",
            "[CV] ................. C=20, epsilon=0.008, gamma=1e-06, total=   1.3s\n",
            "[CV] C=20, epsilon=0.008, gamma=1e-06 ................................\n",
            "[CV] ................. C=20, epsilon=0.008, gamma=1e-06, total=   1.2s\n",
            "[CV] C=20, epsilon=0.008, gamma=1e-06 ................................\n",
            "[CV] ................. C=20, epsilon=0.008, gamma=1e-06, total=   1.3s\n",
            "[CV] C=20, epsilon=0.008, gamma=1.5e-06 ..............................\n",
            "[CV] ............... C=20, epsilon=0.008, gamma=1.5e-06, total=   1.4s\n",
            "[CV] C=20, epsilon=0.008, gamma=1.5e-06 ..............................\n",
            "[CV] ............... C=20, epsilon=0.008, gamma=1.5e-06, total=   1.4s\n",
            "[CV] C=20, epsilon=0.008, gamma=1.5e-06 ..............................\n",
            "[CV] ............... C=20, epsilon=0.008, gamma=1.5e-06, total=   1.4s\n",
            "[CV] C=20, epsilon=0.008, gamma=1.5e-06 ..............................\n",
            "[CV] ............... C=20, epsilon=0.008, gamma=1.5e-06, total=   1.3s\n",
            "[CV] C=20, epsilon=0.008, gamma=1.5e-06 ..............................\n",
            "[CV] ............... C=20, epsilon=0.008, gamma=1.5e-06, total=   1.4s\n",
            "[CV] C=20, epsilon=0.008, gamma=2e-06 ................................\n",
            "[CV] ................. C=20, epsilon=0.008, gamma=2e-06, total=   1.5s\n",
            "[CV] C=20, epsilon=0.008, gamma=2e-06 ................................\n",
            "[CV] ................. C=20, epsilon=0.008, gamma=2e-06, total=   1.4s\n",
            "[CV] C=20, epsilon=0.008, gamma=2e-06 ................................\n",
            "[CV] ................. C=20, epsilon=0.008, gamma=2e-06, total=   1.5s\n",
            "[CV] C=20, epsilon=0.008, gamma=2e-06 ................................\n",
            "[CV] ................. C=20, epsilon=0.008, gamma=2e-06, total=   1.5s\n",
            "[CV] C=20, epsilon=0.008, gamma=2e-06 ................................\n",
            "[CV] ................. C=20, epsilon=0.008, gamma=2e-06, total=   1.5s\n",
            "[CV] C=20, epsilon=0.008, gamma=1e-05 ................................\n",
            "[CV] ................. C=20, epsilon=0.008, gamma=1e-05, total=   1.5s\n",
            "[CV] C=20, epsilon=0.008, gamma=1e-05 ................................\n",
            "[CV] ................. C=20, epsilon=0.008, gamma=1e-05, total=   1.5s\n",
            "[CV] C=20, epsilon=0.008, gamma=1e-05 ................................\n",
            "[CV] ................. C=20, epsilon=0.008, gamma=1e-05, total=   1.5s\n",
            "[CV] C=20, epsilon=0.008, gamma=1e-05 ................................\n",
            "[CV] ................. C=20, epsilon=0.008, gamma=1e-05, total=   1.5s\n",
            "[CV] C=20, epsilon=0.008, gamma=1e-05 ................................\n",
            "[CV] ................. C=20, epsilon=0.008, gamma=1e-05, total=   1.5s\n",
            "[CV] C=20, epsilon=0.008, gamma=2e-05 ................................\n",
            "[CV] ................. C=20, epsilon=0.008, gamma=2e-05, total=   1.3s\n",
            "[CV] C=20, epsilon=0.008, gamma=2e-05 ................................\n",
            "[CV] ................. C=20, epsilon=0.008, gamma=2e-05, total=   1.3s\n",
            "[CV] C=20, epsilon=0.008, gamma=2e-05 ................................\n",
            "[CV] ................. C=20, epsilon=0.008, gamma=2e-05, total=   1.3s\n",
            "[CV] C=20, epsilon=0.008, gamma=2e-05 ................................\n",
            "[CV] ................. C=20, epsilon=0.008, gamma=2e-05, total=   1.3s\n",
            "[CV] C=20, epsilon=0.008, gamma=2e-05 ................................\n",
            "[CV] ................. C=20, epsilon=0.008, gamma=2e-05, total=   1.3s\n",
            "[CV] C=20, epsilon=0.008, gamma=0.0003 ...............................\n",
            "[CV] ................ C=20, epsilon=0.008, gamma=0.0003, total=   0.8s\n",
            "[CV] C=20, epsilon=0.008, gamma=0.0003 ...............................\n",
            "[CV] ................ C=20, epsilon=0.008, gamma=0.0003, total=   0.8s\n",
            "[CV] C=20, epsilon=0.008, gamma=0.0003 ...............................\n",
            "[CV] ................ C=20, epsilon=0.008, gamma=0.0003, total=   0.8s\n",
            "[CV] C=20, epsilon=0.008, gamma=0.0003 ...............................\n",
            "[CV] ................ C=20, epsilon=0.008, gamma=0.0003, total=   0.8s\n",
            "[CV] C=20, epsilon=0.008, gamma=0.0003 ...............................\n",
            "[CV] ................ C=20, epsilon=0.008, gamma=0.0003, total=   0.8s\n",
            "[CV] C=20, epsilon=0.01, gamma=1e-07 .................................\n",
            "[CV] .................. C=20, epsilon=0.01, gamma=1e-07, total=   0.8s\n",
            "[CV] C=20, epsilon=0.01, gamma=1e-07 .................................\n",
            "[CV] .................. C=20, epsilon=0.01, gamma=1e-07, total=   0.8s\n",
            "[CV] C=20, epsilon=0.01, gamma=1e-07 .................................\n",
            "[CV] .................. C=20, epsilon=0.01, gamma=1e-07, total=   0.8s\n",
            "[CV] C=20, epsilon=0.01, gamma=1e-07 .................................\n",
            "[CV] .................. C=20, epsilon=0.01, gamma=1e-07, total=   0.9s\n",
            "[CV] C=20, epsilon=0.01, gamma=1e-07 .................................\n",
            "[CV] .................. C=20, epsilon=0.01, gamma=1e-07, total=   0.8s\n",
            "[CV] C=20, epsilon=0.01, gamma=1e-06 .................................\n",
            "[CV] .................. C=20, epsilon=0.01, gamma=1e-06, total=   1.2s\n",
            "[CV] C=20, epsilon=0.01, gamma=1e-06 .................................\n",
            "[CV] .................. C=20, epsilon=0.01, gamma=1e-06, total=   1.2s\n",
            "[CV] C=20, epsilon=0.01, gamma=1e-06 .................................\n",
            "[CV] .................. C=20, epsilon=0.01, gamma=1e-06, total=   1.2s\n",
            "[CV] C=20, epsilon=0.01, gamma=1e-06 .................................\n",
            "[CV] .................. C=20, epsilon=0.01, gamma=1e-06, total=   1.2s\n",
            "[CV] C=20, epsilon=0.01, gamma=1e-06 .................................\n",
            "[CV] .................. C=20, epsilon=0.01, gamma=1e-06, total=   1.3s\n",
            "[CV] C=20, epsilon=0.01, gamma=1.5e-06 ...............................\n",
            "[CV] ................ C=20, epsilon=0.01, gamma=1.5e-06, total=   1.4s\n",
            "[CV] C=20, epsilon=0.01, gamma=1.5e-06 ...............................\n",
            "[CV] ................ C=20, epsilon=0.01, gamma=1.5e-06, total=   1.3s\n",
            "[CV] C=20, epsilon=0.01, gamma=1.5e-06 ...............................\n",
            "[CV] ................ C=20, epsilon=0.01, gamma=1.5e-06, total=   1.3s\n",
            "[CV] C=20, epsilon=0.01, gamma=1.5e-06 ...............................\n",
            "[CV] ................ C=20, epsilon=0.01, gamma=1.5e-06, total=   1.3s\n",
            "[CV] C=20, epsilon=0.01, gamma=1.5e-06 ...............................\n",
            "[CV] ................ C=20, epsilon=0.01, gamma=1.5e-06, total=   1.3s\n",
            "[CV] C=20, epsilon=0.01, gamma=2e-06 .................................\n",
            "[CV] .................. C=20, epsilon=0.01, gamma=2e-06, total=   1.4s\n",
            "[CV] C=20, epsilon=0.01, gamma=2e-06 .................................\n",
            "[CV] .................. C=20, epsilon=0.01, gamma=2e-06, total=   1.5s\n",
            "[CV] C=20, epsilon=0.01, gamma=2e-06 .................................\n",
            "[CV] .................. C=20, epsilon=0.01, gamma=2e-06, total=   1.5s\n",
            "[CV] C=20, epsilon=0.01, gamma=2e-06 .................................\n",
            "[CV] .................. C=20, epsilon=0.01, gamma=2e-06, total=   1.4s\n",
            "[CV] C=20, epsilon=0.01, gamma=2e-06 .................................\n",
            "[CV] .................. C=20, epsilon=0.01, gamma=2e-06, total=   1.5s\n",
            "[CV] C=20, epsilon=0.01, gamma=1e-05 .................................\n",
            "[CV] .................. C=20, epsilon=0.01, gamma=1e-05, total=   1.4s\n",
            "[CV] C=20, epsilon=0.01, gamma=1e-05 .................................\n",
            "[CV] .................. C=20, epsilon=0.01, gamma=1e-05, total=   1.5s\n",
            "[CV] C=20, epsilon=0.01, gamma=1e-05 .................................\n",
            "[CV] .................. C=20, epsilon=0.01, gamma=1e-05, total=   1.5s\n",
            "[CV] C=20, epsilon=0.01, gamma=1e-05 .................................\n",
            "[CV] .................. C=20, epsilon=0.01, gamma=1e-05, total=   1.4s\n",
            "[CV] C=20, epsilon=0.01, gamma=1e-05 .................................\n",
            "[CV] .................. C=20, epsilon=0.01, gamma=1e-05, total=   1.5s\n",
            "[CV] C=20, epsilon=0.01, gamma=2e-05 .................................\n",
            "[CV] .................. C=20, epsilon=0.01, gamma=2e-05, total=   1.2s\n",
            "[CV] C=20, epsilon=0.01, gamma=2e-05 .................................\n",
            "[CV] .................. C=20, epsilon=0.01, gamma=2e-05, total=   1.3s\n",
            "[CV] C=20, epsilon=0.01, gamma=2e-05 .................................\n",
            "[CV] .................. C=20, epsilon=0.01, gamma=2e-05, total=   1.3s\n",
            "[CV] C=20, epsilon=0.01, gamma=2e-05 .................................\n",
            "[CV] .................. C=20, epsilon=0.01, gamma=2e-05, total=   1.3s\n",
            "[CV] C=20, epsilon=0.01, gamma=2e-05 .................................\n",
            "[CV] .................. C=20, epsilon=0.01, gamma=2e-05, total=   1.2s\n",
            "[CV] C=20, epsilon=0.01, gamma=0.0003 ................................\n",
            "[CV] ................. C=20, epsilon=0.01, gamma=0.0003, total=   0.8s\n",
            "[CV] C=20, epsilon=0.01, gamma=0.0003 ................................\n",
            "[CV] ................. C=20, epsilon=0.01, gamma=0.0003, total=   0.8s\n",
            "[CV] C=20, epsilon=0.01, gamma=0.0003 ................................\n",
            "[CV] ................. C=20, epsilon=0.01, gamma=0.0003, total=   0.8s\n",
            "[CV] C=20, epsilon=0.01, gamma=0.0003 ................................\n",
            "[CV] ................. C=20, epsilon=0.01, gamma=0.0003, total=   0.8s\n",
            "[CV] C=20, epsilon=0.01, gamma=0.0003 ................................\n",
            "[CV] ................. C=20, epsilon=0.01, gamma=0.0003, total=   0.8s\n",
            "[CV] C=50, epsilon=0.005, gamma=1e-07 ................................\n",
            "[CV] ................. C=50, epsilon=0.005, gamma=1e-07, total=   1.0s\n",
            "[CV] C=50, epsilon=0.005, gamma=1e-07 ................................\n",
            "[CV] ................. C=50, epsilon=0.005, gamma=1e-07, total=   1.0s\n",
            "[CV] C=50, epsilon=0.005, gamma=1e-07 ................................\n",
            "[CV] ................. C=50, epsilon=0.005, gamma=1e-07, total=   1.0s\n",
            "[CV] C=50, epsilon=0.005, gamma=1e-07 ................................\n",
            "[CV] ................. C=50, epsilon=0.005, gamma=1e-07, total=   1.0s\n",
            "[CV] C=50, epsilon=0.005, gamma=1e-07 ................................\n",
            "[CV] ................. C=50, epsilon=0.005, gamma=1e-07, total=   1.0s\n",
            "[CV] C=50, epsilon=0.005, gamma=1e-06 ................................\n",
            "[CV] ................. C=50, epsilon=0.005, gamma=1e-06, total=   2.0s\n",
            "[CV] C=50, epsilon=0.005, gamma=1e-06 ................................\n",
            "[CV] ................. C=50, epsilon=0.005, gamma=1e-06, total=   2.0s\n",
            "[CV] C=50, epsilon=0.005, gamma=1e-06 ................................\n",
            "[CV] ................. C=50, epsilon=0.005, gamma=1e-06, total=   2.0s\n",
            "[CV] C=50, epsilon=0.005, gamma=1e-06 ................................\n",
            "[CV] ................. C=50, epsilon=0.005, gamma=1e-06, total=   2.0s\n",
            "[CV] C=50, epsilon=0.005, gamma=1e-06 ................................\n",
            "[CV] ................. C=50, epsilon=0.005, gamma=1e-06, total=   2.0s\n",
            "[CV] C=50, epsilon=0.005, gamma=1.5e-06 ..............................\n",
            "[CV] ............... C=50, epsilon=0.005, gamma=1.5e-06, total=   2.2s\n",
            "[CV] C=50, epsilon=0.005, gamma=1.5e-06 ..............................\n",
            "[CV] ............... C=50, epsilon=0.005, gamma=1.5e-06, total=   2.3s\n",
            "[CV] C=50, epsilon=0.005, gamma=1.5e-06 ..............................\n",
            "[CV] ............... C=50, epsilon=0.005, gamma=1.5e-06, total=   2.2s\n",
            "[CV] C=50, epsilon=0.005, gamma=1.5e-06 ..............................\n",
            "[CV] ............... C=50, epsilon=0.005, gamma=1.5e-06, total=   2.3s\n",
            "[CV] C=50, epsilon=0.005, gamma=1.5e-06 ..............................\n",
            "[CV] ............... C=50, epsilon=0.005, gamma=1.5e-06, total=   2.2s\n",
            "[CV] C=50, epsilon=0.005, gamma=2e-06 ................................\n",
            "[CV] ................. C=50, epsilon=0.005, gamma=2e-06, total=   2.6s\n",
            "[CV] C=50, epsilon=0.005, gamma=2e-06 ................................\n",
            "[CV] ................. C=50, epsilon=0.005, gamma=2e-06, total=   2.5s\n",
            "[CV] C=50, epsilon=0.005, gamma=2e-06 ................................\n",
            "[CV] ................. C=50, epsilon=0.005, gamma=2e-06, total=   2.5s\n",
            "[CV] C=50, epsilon=0.005, gamma=2e-06 ................................\n",
            "[CV] ................. C=50, epsilon=0.005, gamma=2e-06, total=   2.6s\n",
            "[CV] C=50, epsilon=0.005, gamma=2e-06 ................................\n",
            "[CV] ................. C=50, epsilon=0.005, gamma=2e-06, total=   2.4s\n",
            "[CV] C=50, epsilon=0.005, gamma=1e-05 ................................\n",
            "[CV] ................. C=50, epsilon=0.005, gamma=1e-05, total=   2.2s\n",
            "[CV] C=50, epsilon=0.005, gamma=1e-05 ................................\n",
            "[CV] ................. C=50, epsilon=0.005, gamma=1e-05, total=   2.3s\n",
            "[CV] C=50, epsilon=0.005, gamma=1e-05 ................................\n",
            "[CV] ................. C=50, epsilon=0.005, gamma=1e-05, total=   2.0s\n",
            "[CV] C=50, epsilon=0.005, gamma=1e-05 ................................\n",
            "[CV] ................. C=50, epsilon=0.005, gamma=1e-05, total=   2.1s\n",
            "[CV] C=50, epsilon=0.005, gamma=1e-05 ................................\n",
            "[CV] ................. C=50, epsilon=0.005, gamma=1e-05, total=   2.2s\n",
            "[CV] C=50, epsilon=0.005, gamma=2e-05 ................................\n",
            "[CV] ................. C=50, epsilon=0.005, gamma=2e-05, total=   1.5s\n",
            "[CV] C=50, epsilon=0.005, gamma=2e-05 ................................\n",
            "[CV] ................. C=50, epsilon=0.005, gamma=2e-05, total=   1.5s\n",
            "[CV] C=50, epsilon=0.005, gamma=2e-05 ................................\n",
            "[CV] ................. C=50, epsilon=0.005, gamma=2e-05, total=   1.5s\n",
            "[CV] C=50, epsilon=0.005, gamma=2e-05 ................................\n",
            "[CV] ................. C=50, epsilon=0.005, gamma=2e-05, total=   1.4s\n",
            "[CV] C=50, epsilon=0.005, gamma=2e-05 ................................\n",
            "[CV] ................. C=50, epsilon=0.005, gamma=2e-05, total=   1.4s\n",
            "[CV] C=50, epsilon=0.005, gamma=0.0003 ...............................\n",
            "[CV] ................ C=50, epsilon=0.005, gamma=0.0003, total=   0.8s\n",
            "[CV] C=50, epsilon=0.005, gamma=0.0003 ...............................\n",
            "[CV] ................ C=50, epsilon=0.005, gamma=0.0003, total=   0.8s\n",
            "[CV] C=50, epsilon=0.005, gamma=0.0003 ...............................\n",
            "[CV] ................ C=50, epsilon=0.005, gamma=0.0003, total=   0.8s\n",
            "[CV] C=50, epsilon=0.005, gamma=0.0003 ...............................\n",
            "[CV] ................ C=50, epsilon=0.005, gamma=0.0003, total=   0.8s\n",
            "[CV] C=50, epsilon=0.005, gamma=0.0003 ...............................\n",
            "[CV] ................ C=50, epsilon=0.005, gamma=0.0003, total=   0.8s\n",
            "[CV] C=50, epsilon=0.008, gamma=1e-07 ................................\n",
            "[CV] ................. C=50, epsilon=0.008, gamma=1e-07, total=   1.0s\n",
            "[CV] C=50, epsilon=0.008, gamma=1e-07 ................................\n",
            "[CV] ................. C=50, epsilon=0.008, gamma=1e-07, total=   1.0s\n",
            "[CV] C=50, epsilon=0.008, gamma=1e-07 ................................\n",
            "[CV] ................. C=50, epsilon=0.008, gamma=1e-07, total=   1.0s\n",
            "[CV] C=50, epsilon=0.008, gamma=1e-07 ................................\n",
            "[CV] ................. C=50, epsilon=0.008, gamma=1e-07, total=   1.0s\n",
            "[CV] C=50, epsilon=0.008, gamma=1e-07 ................................\n",
            "[CV] ................. C=50, epsilon=0.008, gamma=1e-07, total=   1.0s\n",
            "[CV] C=50, epsilon=0.008, gamma=1e-06 ................................\n",
            "[CV] ................. C=50, epsilon=0.008, gamma=1e-06, total=   1.8s\n",
            "[CV] C=50, epsilon=0.008, gamma=1e-06 ................................\n",
            "[CV] ................. C=50, epsilon=0.008, gamma=1e-06, total=   2.0s\n",
            "[CV] C=50, epsilon=0.008, gamma=1e-06 ................................\n",
            "[CV] ................. C=50, epsilon=0.008, gamma=1e-06, total=   1.9s\n",
            "[CV] C=50, epsilon=0.008, gamma=1e-06 ................................\n",
            "[CV] ................. C=50, epsilon=0.008, gamma=1e-06, total=   1.9s\n",
            "[CV] C=50, epsilon=0.008, gamma=1e-06 ................................\n",
            "[CV] ................. C=50, epsilon=0.008, gamma=1e-06, total=   1.9s\n",
            "[CV] C=50, epsilon=0.008, gamma=1.5e-06 ..............................\n",
            "[CV] ............... C=50, epsilon=0.008, gamma=1.5e-06, total=   2.2s\n",
            "[CV] C=50, epsilon=0.008, gamma=1.5e-06 ..............................\n",
            "[CV] ............... C=50, epsilon=0.008, gamma=1.5e-06, total=   2.3s\n",
            "[CV] C=50, epsilon=0.008, gamma=1.5e-06 ..............................\n",
            "[CV] ............... C=50, epsilon=0.008, gamma=1.5e-06, total=   2.3s\n",
            "[CV] C=50, epsilon=0.008, gamma=1.5e-06 ..............................\n",
            "[CV] ............... C=50, epsilon=0.008, gamma=1.5e-06, total=   2.3s\n",
            "[CV] C=50, epsilon=0.008, gamma=1.5e-06 ..............................\n",
            "[CV] ............... C=50, epsilon=0.008, gamma=1.5e-06, total=   2.2s\n",
            "[CV] C=50, epsilon=0.008, gamma=2e-06 ................................\n",
            "[CV] ................. C=50, epsilon=0.008, gamma=2e-06, total=   2.5s\n",
            "[CV] C=50, epsilon=0.008, gamma=2e-06 ................................\n",
            "[CV] ................. C=50, epsilon=0.008, gamma=2e-06, total=   2.5s\n",
            "[CV] C=50, epsilon=0.008, gamma=2e-06 ................................\n",
            "[CV] ................. C=50, epsilon=0.008, gamma=2e-06, total=   2.4s\n",
            "[CV] C=50, epsilon=0.008, gamma=2e-06 ................................\n",
            "[CV] ................. C=50, epsilon=0.008, gamma=2e-06, total=   2.4s\n",
            "[CV] C=50, epsilon=0.008, gamma=2e-06 ................................\n",
            "[CV] ................. C=50, epsilon=0.008, gamma=2e-06, total=   2.5s\n",
            "[CV] C=50, epsilon=0.008, gamma=1e-05 ................................\n",
            "[CV] ................. C=50, epsilon=0.008, gamma=1e-05, total=   2.1s\n",
            "[CV] C=50, epsilon=0.008, gamma=1e-05 ................................\n",
            "[CV] ................. C=50, epsilon=0.008, gamma=1e-05, total=   2.1s\n",
            "[CV] C=50, epsilon=0.008, gamma=1e-05 ................................\n",
            "[CV] ................. C=50, epsilon=0.008, gamma=1e-05, total=   1.9s\n",
            "[CV] C=50, epsilon=0.008, gamma=1e-05 ................................\n",
            "[CV] ................. C=50, epsilon=0.008, gamma=1e-05, total=   2.0s\n",
            "[CV] C=50, epsilon=0.008, gamma=1e-05 ................................\n",
            "[CV] ................. C=50, epsilon=0.008, gamma=1e-05, total=   2.0s\n",
            "[CV] C=50, epsilon=0.008, gamma=2e-05 ................................\n",
            "[CV] ................. C=50, epsilon=0.008, gamma=2e-05, total=   1.4s\n",
            "[CV] C=50, epsilon=0.008, gamma=2e-05 ................................\n",
            "[CV] ................. C=50, epsilon=0.008, gamma=2e-05, total=   1.4s\n",
            "[CV] C=50, epsilon=0.008, gamma=2e-05 ................................\n",
            "[CV] ................. C=50, epsilon=0.008, gamma=2e-05, total=   1.4s\n",
            "[CV] C=50, epsilon=0.008, gamma=2e-05 ................................\n",
            "[CV] ................. C=50, epsilon=0.008, gamma=2e-05, total=   1.3s\n",
            "[CV] C=50, epsilon=0.008, gamma=2e-05 ................................\n",
            "[CV] ................. C=50, epsilon=0.008, gamma=2e-05, total=   1.4s\n",
            "[CV] C=50, epsilon=0.008, gamma=0.0003 ...............................\n",
            "[CV] ................ C=50, epsilon=0.008, gamma=0.0003, total=   0.8s\n",
            "[CV] C=50, epsilon=0.008, gamma=0.0003 ...............................\n",
            "[CV] ................ C=50, epsilon=0.008, gamma=0.0003, total=   0.8s\n",
            "[CV] C=50, epsilon=0.008, gamma=0.0003 ...............................\n",
            "[CV] ................ C=50, epsilon=0.008, gamma=0.0003, total=   0.8s\n",
            "[CV] C=50, epsilon=0.008, gamma=0.0003 ...............................\n",
            "[CV] ................ C=50, epsilon=0.008, gamma=0.0003, total=   0.8s\n",
            "[CV] C=50, epsilon=0.008, gamma=0.0003 ...............................\n",
            "[CV] ................ C=50, epsilon=0.008, gamma=0.0003, total=   0.8s\n",
            "[CV] C=50, epsilon=0.01, gamma=1e-07 .................................\n",
            "[CV] .................. C=50, epsilon=0.01, gamma=1e-07, total=   1.0s\n",
            "[CV] C=50, epsilon=0.01, gamma=1e-07 .................................\n",
            "[CV] .................. C=50, epsilon=0.01, gamma=1e-07, total=   0.9s\n",
            "[CV] C=50, epsilon=0.01, gamma=1e-07 .................................\n",
            "[CV] .................. C=50, epsilon=0.01, gamma=1e-07, total=   0.9s\n",
            "[CV] C=50, epsilon=0.01, gamma=1e-07 .................................\n",
            "[CV] .................. C=50, epsilon=0.01, gamma=1e-07, total=   1.0s\n",
            "[CV] C=50, epsilon=0.01, gamma=1e-07 .................................\n",
            "[CV] .................. C=50, epsilon=0.01, gamma=1e-07, total=   1.0s\n",
            "[CV] C=50, epsilon=0.01, gamma=1e-06 .................................\n",
            "[CV] .................. C=50, epsilon=0.01, gamma=1e-06, total=   1.8s\n",
            "[CV] C=50, epsilon=0.01, gamma=1e-06 .................................\n",
            "[CV] .................. C=50, epsilon=0.01, gamma=1e-06, total=   1.8s\n",
            "[CV] C=50, epsilon=0.01, gamma=1e-06 .................................\n",
            "[CV] .................. C=50, epsilon=0.01, gamma=1e-06, total=   1.8s\n",
            "[CV] C=50, epsilon=0.01, gamma=1e-06 .................................\n",
            "[CV] .................. C=50, epsilon=0.01, gamma=1e-06, total=   1.8s\n",
            "[CV] C=50, epsilon=0.01, gamma=1e-06 .................................\n",
            "[CV] .................. C=50, epsilon=0.01, gamma=1e-06, total=   1.9s\n",
            "[CV] C=50, epsilon=0.01, gamma=1.5e-06 ...............................\n",
            "[CV] ................ C=50, epsilon=0.01, gamma=1.5e-06, total=   2.2s\n",
            "[CV] C=50, epsilon=0.01, gamma=1.5e-06 ...............................\n",
            "[CV] ................ C=50, epsilon=0.01, gamma=1.5e-06, total=   2.2s\n",
            "[CV] C=50, epsilon=0.01, gamma=1.5e-06 ...............................\n",
            "[CV] ................ C=50, epsilon=0.01, gamma=1.5e-06, total=   2.2s\n",
            "[CV] C=50, epsilon=0.01, gamma=1.5e-06 ...............................\n",
            "[CV] ................ C=50, epsilon=0.01, gamma=1.5e-06, total=   2.2s\n",
            "[CV] C=50, epsilon=0.01, gamma=1.5e-06 ...............................\n",
            "[CV] ................ C=50, epsilon=0.01, gamma=1.5e-06, total=   2.2s\n",
            "[CV] C=50, epsilon=0.01, gamma=2e-06 .................................\n",
            "[CV] .................. C=50, epsilon=0.01, gamma=2e-06, total=   2.4s\n",
            "[CV] C=50, epsilon=0.01, gamma=2e-06 .................................\n",
            "[CV] .................. C=50, epsilon=0.01, gamma=2e-06, total=   2.4s\n",
            "[CV] C=50, epsilon=0.01, gamma=2e-06 .................................\n",
            "[CV] .................. C=50, epsilon=0.01, gamma=2e-06, total=   2.4s\n",
            "[CV] C=50, epsilon=0.01, gamma=2e-06 .................................\n",
            "[CV] .................. C=50, epsilon=0.01, gamma=2e-06, total=   2.3s\n",
            "[CV] C=50, epsilon=0.01, gamma=2e-06 .................................\n",
            "[CV] .................. C=50, epsilon=0.01, gamma=2e-06, total=   2.4s\n",
            "[CV] C=50, epsilon=0.01, gamma=1e-05 .................................\n",
            "[CV] .................. C=50, epsilon=0.01, gamma=1e-05, total=   2.0s\n",
            "[CV] C=50, epsilon=0.01, gamma=1e-05 .................................\n",
            "[CV] .................. C=50, epsilon=0.01, gamma=1e-05, total=   2.0s\n",
            "[CV] C=50, epsilon=0.01, gamma=1e-05 .................................\n",
            "[CV] .................. C=50, epsilon=0.01, gamma=1e-05, total=   1.9s\n",
            "[CV] C=50, epsilon=0.01, gamma=1e-05 .................................\n",
            "[CV] .................. C=50, epsilon=0.01, gamma=1e-05, total=   1.9s\n",
            "[CV] C=50, epsilon=0.01, gamma=1e-05 .................................\n",
            "[CV] .................. C=50, epsilon=0.01, gamma=1e-05, total=   2.0s\n",
            "[CV] C=50, epsilon=0.01, gamma=2e-05 .................................\n",
            "[CV] .................. C=50, epsilon=0.01, gamma=2e-05, total=   1.3s\n",
            "[CV] C=50, epsilon=0.01, gamma=2e-05 .................................\n",
            "[CV] .................. C=50, epsilon=0.01, gamma=2e-05, total=   1.4s\n",
            "[CV] C=50, epsilon=0.01, gamma=2e-05 .................................\n",
            "[CV] .................. C=50, epsilon=0.01, gamma=2e-05, total=   1.4s\n",
            "[CV] C=50, epsilon=0.01, gamma=2e-05 .................................\n",
            "[CV] .................. C=50, epsilon=0.01, gamma=2e-05, total=   1.3s\n",
            "[CV] C=50, epsilon=0.01, gamma=2e-05 .................................\n",
            "[CV] .................. C=50, epsilon=0.01, gamma=2e-05, total=   1.3s\n",
            "[CV] C=50, epsilon=0.01, gamma=0.0003 ................................\n",
            "[CV] ................. C=50, epsilon=0.01, gamma=0.0003, total=   0.8s\n",
            "[CV] C=50, epsilon=0.01, gamma=0.0003 ................................\n",
            "[CV] ................. C=50, epsilon=0.01, gamma=0.0003, total=   0.8s\n",
            "[CV] C=50, epsilon=0.01, gamma=0.0003 ................................\n",
            "[CV] ................. C=50, epsilon=0.01, gamma=0.0003, total=   0.8s\n",
            "[CV] C=50, epsilon=0.01, gamma=0.0003 ................................\n",
            "[CV] ................. C=50, epsilon=0.01, gamma=0.0003, total=   0.8s\n",
            "[CV] C=50, epsilon=0.01, gamma=0.0003 ................................\n",
            "[CV] ................. C=50, epsilon=0.01, gamma=0.0003, total=   0.8s\n"
          ],
          "name": "stdout"
        },
        {
          "output_type": "stream",
          "text": [
            "[Parallel(n_jobs=1)]: Done 630 out of 630 | elapsed: 11.4min finished\n"
          ],
          "name": "stderr"
        },
        {
          "output_type": "execute_result",
          "data": {
            "text/plain": [
              "GridSearchCV(cv=None, error_score=nan,\n",
              "             estimator=SVR(C=1.0, cache_size=200, coef0=0.0, degree=3,\n",
              "                           epsilon=0.1, gamma='scale', kernel='rbf',\n",
              "                           max_iter=-1, shrinking=True, tol=0.001,\n",
              "                           verbose=False),\n",
              "             iid='deprecated', n_jobs=None,\n",
              "             param_grid={'C': [1, 3, 5, 10, 20, 50],\n",
              "                         'epsilon': [0.005, 0.008, 0.01],\n",
              "                         'gamma': [1e-07, 1e-06, 1.5e-06, 2e-06, 1e-05, 2e-05,\n",
              "                                   0.0003]},\n",
              "             pre_dispatch='2*n_jobs', refit=True, return_train_score=False,\n",
              "             scoring=None, verbose=2)"
            ]
          },
          "metadata": {
            "tags": []
          },
          "execution_count": 71
        }
      ]
    },
    {
      "cell_type": "code",
      "metadata": {
        "colab": {
          "base_uri": "https://localhost:8080/"
        },
        "id": "dF9L78m04yZk",
        "outputId": "1b37cb05-79e5-434c-9167-a06c8acdca01"
      },
      "source": [
        "# best parameter\n",
        "print(svm_cv.best_params_)\n",
        "  \n",
        "# best model\n",
        "print(svm_cv.best_estimator_)\n",
        "\n",
        "# best score\n",
        "print(svm_cv.best_score_)"
      ],
      "execution_count": null,
      "outputs": [
        {
          "output_type": "stream",
          "text": [
            "{'C': 50, 'epsilon': 0.005, 'gamma': 1e-07}\n",
            "SVR(C=50, cache_size=200, coef0=0.0, degree=3, epsilon=0.005, gamma=1e-07,\n",
            "    kernel='rbf', max_iter=-1, shrinking=True, tol=0.001, verbose=False)\n",
            "0.8192333534075141\n"
          ],
          "name": "stdout"
        }
      ]
    },
    {
      "cell_type": "code",
      "metadata": {
        "id": "6ifHRFF4C75_"
      },
      "source": [
        "model_svr = make_pipeline(RobustScaler(), SVR(C= 50, epsilon= 0.005, gamma=1e-07))"
      ],
      "execution_count": null,
      "outputs": []
    },
    {
      "cell_type": "code",
      "metadata": {
        "colab": {
          "base_uri": "https://localhost:8080/"
        },
        "id": "Kfd7KM7nC73m",
        "outputId": "58e98ebd-dbe8-4071-9fd5-4f9c26c2f6b5"
      },
      "source": [
        "score = rmse_cv(model_svr)\n",
        "print(\"SVR (mean, std): {:.4f} ({:.4f})\".format(score.mean(), score.std()))\n",
        "scores['model_svr'] = (score.mean(), score.std())"
      ],
      "execution_count": null,
      "outputs": [
        {
          "output_type": "stream",
          "text": [
            "SVR (mean, std): 0.3247 (0.0195)\n"
          ],
          "name": "stdout"
        }
      ]
    },
    {
      "cell_type": "code",
      "metadata": {
        "colab": {
          "base_uri": "https://localhost:8080/"
        },
        "id": "FWxO-do6EXte",
        "outputId": "69b3e871-7804-4ef0-ddda-74aa03eccdec"
      },
      "source": [
        "svr_model_fit = model_svr.fit(X_train, y_train)\n",
        "svr_train_pred = svr_model_fit.predict(X_train)\n",
        "svr_pred = np.floor(np.expm1(svr_model_fit.predict(test_set)))\n",
        "print(rmsle(y_train, svr_train_pred))"
      ],
      "execution_count": null,
      "outputs": [
        {
          "output_type": "stream",
          "text": [
            "0.3201184655936208\n"
          ],
          "name": "stdout"
        }
      ]
    },
    {
      "cell_type": "code",
      "metadata": {
        "id": "hLak5VidEbc3"
      },
      "source": [],
      "execution_count": null,
      "outputs": []
    },
    {
      "cell_type": "markdown",
      "metadata": {
        "id": "YK3RgxDsDFiU"
      },
      "source": [
        "## Model 4 - Random Forest"
      ]
    },
    {
      "cell_type": "code",
      "metadata": {
        "colab": {
          "base_uri": "https://localhost:8080/"
        },
        "id": "K-FtcF2bwHOu",
        "outputId": "2fb6122d-ef17-4660-f687-c9ee98137d45"
      },
      "source": [
        "param_grid = {'n_estimators': [800,1000,1200,1400],\n",
        "               'max_depth': [10,15],\n",
        "               'min_samples_split': [5],\n",
        "               'min_samples_leaf': [5]}\n",
        "  \n",
        "rf_cv = GridSearchCV(RandomForestRegressor(max_features=None, bootstrap=True), param_grid, verbose = 1, n_jobs=-1)\n",
        "  \n",
        "# fitting the model for grid search\n",
        "rf_cv.fit(X_train, y_train)"
      ],
      "execution_count": null,
      "outputs": [
        {
          "output_type": "stream",
          "text": [
            "Fitting 5 folds for each of 8 candidates, totalling 40 fits\n"
          ],
          "name": "stdout"
        },
        {
          "output_type": "stream",
          "text": [
            "[Parallel(n_jobs=-1)]: Using backend LokyBackend with 2 concurrent workers.\n",
            "[Parallel(n_jobs=-1)]: Done  40 out of  40 | elapsed:  7.9min finished\n"
          ],
          "name": "stderr"
        },
        {
          "output_type": "execute_result",
          "data": {
            "text/plain": [
              "GridSearchCV(cv=None, error_score=nan,\n",
              "             estimator=RandomForestRegressor(bootstrap=True, ccp_alpha=0.0,\n",
              "                                             criterion='mse', max_depth=None,\n",
              "                                             max_features=None,\n",
              "                                             max_leaf_nodes=None,\n",
              "                                             max_samples=None,\n",
              "                                             min_impurity_decrease=0.0,\n",
              "                                             min_impurity_split=None,\n",
              "                                             min_samples_leaf=1,\n",
              "                                             min_samples_split=2,\n",
              "                                             min_weight_fraction_leaf=0.0,\n",
              "                                             n_estimators=100, n_jobs=None,\n",
              "                                             oob_score=False, random_state=None,\n",
              "                                             verbose=0, warm_start=False),\n",
              "             iid='deprecated', n_jobs=-1,\n",
              "             param_grid={'max_depth': [10, 15], 'min_samples_leaf': [5],\n",
              "                         'min_samples_split': [5],\n",
              "                         'n_estimators': [800, 1000, 1200, 1400]},\n",
              "             pre_dispatch='2*n_jobs', refit=True, return_train_score=False,\n",
              "             scoring=None, verbose=1)"
            ]
          },
          "metadata": {
            "tags": []
          },
          "execution_count": 52
        }
      ]
    },
    {
      "cell_type": "code",
      "metadata": {
        "id": "VunpQpzJx7e-",
        "colab": {
          "base_uri": "https://localhost:8080/"
        },
        "outputId": "1fdbb091-abd3-40b4-d13a-81a46efa3dd3"
      },
      "source": [
        "# best parameter\n",
        "print(rf_cv.best_params_)\n",
        "  \n",
        "# best model\n",
        "print(rf_cv.best_estimator_)\n",
        "\n",
        "# best score\n",
        "print(rf_cv.best_score_)"
      ],
      "execution_count": null,
      "outputs": [
        {
          "output_type": "stream",
          "text": [
            "{'max_depth': 15, 'min_samples_leaf': 5, 'min_samples_split': 5, 'n_estimators': 800}\n",
            "RandomForestRegressor(bootstrap=True, ccp_alpha=0.0, criterion='mse',\n",
            "                      max_depth=15, max_features=None, max_leaf_nodes=None,\n",
            "                      max_samples=None, min_impurity_decrease=0.0,\n",
            "                      min_impurity_split=None, min_samples_leaf=5,\n",
            "                      min_samples_split=5, min_weight_fraction_leaf=0.0,\n",
            "                      n_estimators=800, n_jobs=None, oob_score=False,\n",
            "                      random_state=None, verbose=0, warm_start=False)\n",
            "0.8768570248598009\n"
          ],
          "name": "stdout"
        }
      ]
    },
    {
      "cell_type": "code",
      "metadata": {
        "id": "R6yOa5EwC71f"
      },
      "source": [
        "model_rf = RandomForestRegressor(n_estimators=800,\n",
        "                          max_depth=15,\n",
        "                          min_samples_split=5,\n",
        "                          min_samples_leaf=5,\n",
        "                          max_features=None,\n",
        "                          oob_score=True,\n",
        "                          random_state=42)"
      ],
      "execution_count": null,
      "outputs": []
    },
    {
      "cell_type": "code",
      "metadata": {
        "id": "UbEuKU_mC7zB",
        "colab": {
          "base_uri": "https://localhost:8080/"
        },
        "outputId": "706d86a8-1eb0-492e-f55d-4f82e2017e86"
      },
      "source": [
        "score = rmse_cv(model_rf)\n",
        "print(\"RandomForest (mean, std): {:.4f} ({:.4f})\".format(score.mean(), score.std()))\n",
        "scores['model_rf'] = (score.mean(), score.std())"
      ],
      "execution_count": null,
      "outputs": [
        {
          "output_type": "stream",
          "text": [
            "RandomForest (mean, std): 0.1371 (0.0162)\n"
          ],
          "name": "stdout"
        }
      ]
    },
    {
      "cell_type": "code",
      "metadata": {
        "id": "47TOpT_0EfEH",
        "colab": {
          "base_uri": "https://localhost:8080/"
        },
        "outputId": "2f7c6ebc-022a-4d66-b9f0-b3a222c74f84"
      },
      "source": [
        "rf_model_fit = model_rf.fit(X_train, y_train)\n",
        "rf_train_pred = rf_model_fit.predict(X_train)\n",
        "rf_pred = np.floor(np.expm1(rf_model_fit.predict(test_set)))\n",
        "print(rmsle(y_train, rf_train_pred))"
      ],
      "execution_count": null,
      "outputs": [
        {
          "output_type": "stream",
          "text": [
            "0.08751276962360396\n"
          ],
          "name": "stdout"
        }
      ]
    },
    {
      "cell_type": "markdown",
      "metadata": {
        "id": "YiQ07d-WDslf"
      },
      "source": [
        "## Model 5 - GBR"
      ]
    },
    {
      "cell_type": "code",
      "metadata": {
        "colab": {
          "base_uri": "https://localhost:8080/"
        },
        "id": "w7ERpLMpNFJT",
        "outputId": "4391be20-b376-4768-ce38-5b616e0469a9"
      },
      "source": [
        "param_grid = {'n_estimators': [3000,6000,8000],\n",
        "               'max_depth': [4,5,6],\n",
        "               'min_samples_split': [10],\n",
        "               'min_samples_leaf': [15]}\n",
        "  \n",
        "gbr_cv = GridSearchCV(GradientBoostingRegressor(max_features='sqrt', loss='huber', learning_rate=0.01), param_grid, verbose = 1, n_jobs=-1)\n",
        "  \n",
        "# fitting the model for grid search\n",
        "gbr_cv.fit(X_train, y_train)"
      ],
      "execution_count": null,
      "outputs": [
        {
          "output_type": "stream",
          "text": [
            "Fitting 5 folds for each of 9 candidates, totalling 45 fits\n"
          ],
          "name": "stdout"
        },
        {
          "output_type": "stream",
          "text": [
            "[Parallel(n_jobs=-1)]: Using backend LokyBackend with 2 concurrent workers.\n",
            "[Parallel(n_jobs=-1)]: Done  45 out of  45 | elapsed: 10.7min finished\n"
          ],
          "name": "stderr"
        },
        {
          "output_type": "execute_result",
          "data": {
            "text/plain": [
              "GridSearchCV(cv=None, error_score=nan,\n",
              "             estimator=GradientBoostingRegressor(alpha=0.9, ccp_alpha=0.0,\n",
              "                                                 criterion='friedman_mse',\n",
              "                                                 init=None, learning_rate=0.01,\n",
              "                                                 loss='huber', max_depth=3,\n",
              "                                                 max_features='sqrt',\n",
              "                                                 max_leaf_nodes=None,\n",
              "                                                 min_impurity_decrease=0.0,\n",
              "                                                 min_impurity_split=None,\n",
              "                                                 min_samples_leaf=1,\n",
              "                                                 min_samples_split=2,\n",
              "                                                 min_weight_fraction_leaf=0.0,\n",
              "                                                 n_estimators=100,\n",
              "                                                 n_iter_no_change=None,\n",
              "                                                 presort='deprecated',\n",
              "                                                 random_state=None,\n",
              "                                                 subsample=1.0, tol=0.0001,\n",
              "                                                 validation_fraction=0.1,\n",
              "                                                 verbose=0, warm_start=False),\n",
              "             iid='deprecated', n_jobs=-1,\n",
              "             param_grid={'max_depth': [4, 5, 6], 'min_samples_leaf': [15],\n",
              "                         'min_samples_split': [10],\n",
              "                         'n_estimators': [3000, 6000, 8000]},\n",
              "             pre_dispatch='2*n_jobs', refit=True, return_train_score=False,\n",
              "             scoring=None, verbose=1)"
            ]
          },
          "metadata": {
            "tags": []
          },
          "execution_count": 60
        }
      ]
    },
    {
      "cell_type": "code",
      "metadata": {
        "colab": {
          "base_uri": "https://localhost:8080/"
        },
        "id": "Kr15fvwLNv-j",
        "outputId": "7371b4e7-1294-489f-8e5e-f8000b072497"
      },
      "source": [
        "# best parameter\n",
        "print(gbr_cv.best_params_)\n",
        "  \n",
        "# best model\n",
        "print(gbr_cv.best_estimator_)\n",
        "\n",
        "# best score\n",
        "print(gbr_cv.best_score_)"
      ],
      "execution_count": null,
      "outputs": [
        {
          "output_type": "stream",
          "text": [
            "{'max_depth': 4, 'min_samples_leaf': 15, 'min_samples_split': 10, 'n_estimators': 6000}\n",
            "GradientBoostingRegressor(alpha=0.9, ccp_alpha=0.0, criterion='friedman_mse',\n",
            "                          init=None, learning_rate=0.01, loss='huber',\n",
            "                          max_depth=4, max_features='sqrt', max_leaf_nodes=None,\n",
            "                          min_impurity_decrease=0.0, min_impurity_split=None,\n",
            "                          min_samples_leaf=15, min_samples_split=10,\n",
            "                          min_weight_fraction_leaf=0.0, n_estimators=6000,\n",
            "                          n_iter_no_change=None, presort='deprecated',\n",
            "                          random_state=None, subsample=1.0, tol=0.0001,\n",
            "                          validation_fraction=0.1, verbose=0, warm_start=False)\n",
            "0.9197130561849566\n"
          ],
          "name": "stdout"
        }
      ]
    },
    {
      "cell_type": "code",
      "metadata": {
        "id": "S8HlyDEDDu0W"
      },
      "source": [
        "# Gradient Boosting Regressor\n",
        "model_gbr = GradientBoostingRegressor(n_estimators=6000,\n",
        "                                learning_rate=0.01,\n",
        "                                max_depth=4,\n",
        "                                max_features='sqrt',\n",
        "                                min_samples_leaf=15,\n",
        "                                min_samples_split=10,\n",
        "                                loss='huber',\n",
        "                                random_state=42)  "
      ],
      "execution_count": null,
      "outputs": []
    },
    {
      "cell_type": "code",
      "metadata": {
        "id": "OE9gBlgZDvYH",
        "colab": {
          "base_uri": "https://localhost:8080/"
        },
        "outputId": "87a41ce2-fe20-4579-bafa-4d90a769a980"
      },
      "source": [
        "score = rmse_cv(model_gbr)\n",
        "print(\"Gradient Boosting Regressor (mean, std): {:.4f} ({:.4f})\".format(score.mean(), score.std()))\n",
        "scores['model_gbr'] = (score.mean(), score.std())"
      ],
      "execution_count": null,
      "outputs": [
        {
          "output_type": "stream",
          "text": [
            "Gradient Boosting Regressor (mean, std): 0.1120 (0.0164)\n"
          ],
          "name": "stdout"
        }
      ]
    },
    {
      "cell_type": "code",
      "metadata": {
        "id": "f0AGOeVAEhZP",
        "colab": {
          "base_uri": "https://localhost:8080/"
        },
        "outputId": "eb469254-b01c-4621-f3de-aa0f6727569c"
      },
      "source": [
        "gbr_model_fit = model_gbr.fit(X_train, y_train)\n",
        "gbr_train_pred = gbr_model_fit.predict(X_train)\n",
        "gbr_pred = np.floor(np.expm1(gbr_model_fit.predict(test_set)))\n",
        "print(rmsle(y_train, gbr_train_pred))"
      ],
      "execution_count": null,
      "outputs": [
        {
          "output_type": "stream",
          "text": [
            "0.06452349866048848\n"
          ],
          "name": "stdout"
        }
      ]
    },
    {
      "cell_type": "markdown",
      "metadata": {
        "id": "bO3xUxUKDcJm"
      },
      "source": [
        "## Ensemble Models (Stacking)\n",
        "##### Stack good performance models"
      ]
    },
    {
      "cell_type": "code",
      "metadata": {
        "colab": {
          "base_uri": "https://localhost:8080/",
          "height": 204
        },
        "id": "MOoBIU1RSx1d",
        "outputId": "54490a17-c133-4171-960b-7662f881d9c0"
      },
      "source": [
        "pd.DataFrame(scores).T.sort_values(by=0)"
      ],
      "execution_count": null,
      "outputs": [
        {
          "output_type": "execute_result",
          "data": {
            "text/html": [
              "<div>\n",
              "<style scoped>\n",
              "    .dataframe tbody tr th:only-of-type {\n",
              "        vertical-align: middle;\n",
              "    }\n",
              "\n",
              "    .dataframe tbody tr th {\n",
              "        vertical-align: top;\n",
              "    }\n",
              "\n",
              "    .dataframe thead th {\n",
              "        text-align: right;\n",
              "    }\n",
              "</style>\n",
              "<table border=\"1\" class=\"dataframe\">\n",
              "  <thead>\n",
              "    <tr style=\"text-align: right;\">\n",
              "      <th></th>\n",
              "      <th>0</th>\n",
              "      <th>1</th>\n",
              "    </tr>\n",
              "  </thead>\n",
              "  <tbody>\n",
              "    <tr>\n",
              "      <th>model_lasso</th>\n",
              "      <td>0.109560</td>\n",
              "      <td>0.016828</td>\n",
              "    </tr>\n",
              "    <tr>\n",
              "      <th>model_gbr</th>\n",
              "      <td>0.112023</td>\n",
              "      <td>0.016377</td>\n",
              "    </tr>\n",
              "    <tr>\n",
              "      <th>model_xgb</th>\n",
              "      <td>0.114732</td>\n",
              "      <td>0.015837</td>\n",
              "    </tr>\n",
              "    <tr>\n",
              "      <th>model_rf</th>\n",
              "      <td>0.137080</td>\n",
              "      <td>0.016231</td>\n",
              "    </tr>\n",
              "    <tr>\n",
              "      <th>model_svr</th>\n",
              "      <td>0.324680</td>\n",
              "      <td>0.019460</td>\n",
              "    </tr>\n",
              "  </tbody>\n",
              "</table>\n",
              "</div>"
            ],
            "text/plain": [
              "                    0         1\n",
              "model_lasso  0.109560  0.016828\n",
              "model_gbr    0.112023  0.016377\n",
              "model_xgb    0.114732  0.015837\n",
              "model_rf     0.137080  0.016231\n",
              "model_svr    0.324680  0.019460"
            ]
          },
          "metadata": {
            "tags": []
          },
          "execution_count": 92
        }
      ]
    },
    {
      "cell_type": "code",
      "metadata": {
        "id": "PTWLeGxQC7wh"
      },
      "source": [
        "regressors = (model_lasso,model_gbr,model_rf)\n",
        "\n",
        "stacking_reg = StackingCVRegressor(regressors=regressors,\n",
        "                                meta_regressor= model_lasso,\n",
        "                                use_features_in_secondary=True)\n",
        "\n",
        "# somehow including XGB incurs error while using stacking_reg\n",
        "# need to find out the workaround if want to stack xgb in the future                            "
      ],
      "execution_count": null,
      "outputs": []
    },
    {
      "cell_type": "code",
      "metadata": {
        "id": "-l7afAbYD3si",
        "colab": {
          "base_uri": "https://localhost:8080/"
        },
        "outputId": "2003219e-716a-4745-d52d-bbce8e9ff2fc"
      },
      "source": [
        "stacked_reg_model_fit = stacking_reg.fit(np.array(X_train), np.array(y_train))\n",
        "stacked_train_pred = stacked_reg_model_fit.predict(X_train)\n",
        "stacked_pred = np.floor(np.expm1(stacked_reg_model_fit.predict(test_set)))\n",
        "print(rmsle(y_train, stacked_train_pred))"
      ],
      "execution_count": null,
      "outputs": [
        {
          "output_type": "stream",
          "text": [
            "0.07911498128898327\n"
          ],
          "name": "stdout"
        }
      ]
    },
    {
      "cell_type": "markdown",
      "metadata": {
        "id": "pnPRvL4jDgq_"
      },
      "source": [
        "# Submission"
      ]
    },
    {
      "cell_type": "code",
      "metadata": {
        "id": "9fJbJtt3EHlu"
      },
      "source": [
        "ensemble = ((stacked_pred * 0.33) + (lasso_pred * 0.24) + (gbr_pred * 0.21) + (xgb_pred * 0.07) + (rf_pred * 0.14)  + (svr_pred * 0.01))\n",
        "# ensemble = ((stacked_pred * 0.30) + (lasso_pred * 0.24) + (gbr_pred * 0.21) + (xgb_pred * 0.10) + (rf_pred * 0.14)  + (svr_pred * 0.01))"
      ],
      "execution_count": null,
      "outputs": []
    },
    {
      "cell_type": "code",
      "metadata": {
        "id": "WvMGH2DWE1mb",
        "colab": {
          "base_uri": "https://localhost:8080/",
          "height": 204
        },
        "outputId": "c7f0b7f7-431a-462b-8f49-5cbd490e19a0"
      },
      "source": [
        "submission = pd.DataFrame()\n",
        "submission['Id'] = test_df['Id']\n",
        "submission['SalePrice'] = ensemble\n",
        "submission.head()"
      ],
      "execution_count": null,
      "outputs": [
        {
          "output_type": "execute_result",
          "data": {
            "text/html": [
              "<div>\n",
              "<style scoped>\n",
              "    .dataframe tbody tr th:only-of-type {\n",
              "        vertical-align: middle;\n",
              "    }\n",
              "\n",
              "    .dataframe tbody tr th {\n",
              "        vertical-align: top;\n",
              "    }\n",
              "\n",
              "    .dataframe thead th {\n",
              "        text-align: right;\n",
              "    }\n",
              "</style>\n",
              "<table border=\"1\" class=\"dataframe\">\n",
              "  <thead>\n",
              "    <tr style=\"text-align: right;\">\n",
              "      <th></th>\n",
              "      <th>Id</th>\n",
              "      <th>SalePrice</th>\n",
              "    </tr>\n",
              "  </thead>\n",
              "  <tbody>\n",
              "    <tr>\n",
              "      <th>0</th>\n",
              "      <td>1461</td>\n",
              "      <td>123536.710469</td>\n",
              "    </tr>\n",
              "    <tr>\n",
              "      <th>1</th>\n",
              "      <td>1462</td>\n",
              "      <td>155923.429805</td>\n",
              "    </tr>\n",
              "    <tr>\n",
              "      <th>2</th>\n",
              "      <td>1463</td>\n",
              "      <td>186269.810430</td>\n",
              "    </tr>\n",
              "    <tr>\n",
              "      <th>3</th>\n",
              "      <td>1464</td>\n",
              "      <td>194740.220508</td>\n",
              "    </tr>\n",
              "    <tr>\n",
              "      <th>4</th>\n",
              "      <td>1465</td>\n",
              "      <td>189661.510391</td>\n",
              "    </tr>\n",
              "  </tbody>\n",
              "</table>\n",
              "</div>"
            ],
            "text/plain": [
              "     Id      SalePrice\n",
              "0  1461  123536.710469\n",
              "1  1462  155923.429805\n",
              "2  1463  186269.810430\n",
              "3  1464  194740.220508\n",
              "4  1465  189661.510391"
            ]
          },
          "metadata": {
            "tags": []
          },
          "execution_count": 107
        }
      ]
    },
    {
      "cell_type": "code",
      "metadata": {
        "id": "vsrGcdNl96E6"
      },
      "source": [
        "submission.to_csv('sub_ensemble6.csv', index=False)"
      ],
      "execution_count": null,
      "outputs": []
    },
    {
      "cell_type": "code",
      "metadata": {
        "id": "c2GlM4I_oH7L"
      },
      "source": [],
      "execution_count": null,
      "outputs": []
    }
  ]
}